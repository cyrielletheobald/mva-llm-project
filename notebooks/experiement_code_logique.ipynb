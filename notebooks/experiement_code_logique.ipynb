{
 "cells": [
  {
   "cell_type": "markdown",
   "metadata": {},
   "source": [
    "# Module"
   ]
  },
  {
   "cell_type": "code",
   "execution_count": 1,
   "metadata": {},
   "outputs": [
    {
     "name": "stdout",
     "output_type": "stream",
     "text": [
      "cpu\n"
     ]
    }
   ],
   "source": [
    "import sys\n",
    "sys.path.append('../')\n",
    "import os\n",
    "import torch\n",
    "import ollama\n",
    "device=\"cuda\" if torch.cuda.is_available() else \"cpu\"\n",
    "print(device)\n",
    "from src.config import PATH_PROJECT, PROMPT_SYSTEM, PROMPT_MODEL_EXPERT\n",
    "\n"
   ]
  },
  {
   "cell_type": "markdown",
   "metadata": {},
   "source": [
    "# Test models"
   ]
  },
  {
   "cell_type": "code",
   "execution_count": 2,
   "metadata": {},
   "outputs": [],
   "source": [
    "import pandas as pd \n",
    "df = pd.read_excel(os.path.join(PATH_PROJECT, \"data/\") + \"dataset.xlsx\").fillna(\"Non renseigné\")"
   ]
  },
  {
   "cell_type": "code",
   "execution_count": 3,
   "metadata": {},
   "outputs": [
    {
     "name": "stdout",
     "output_type": "stream",
     "text": [
      "Ollama server is UP!\n"
     ]
    }
   ],
   "source": [
    "import requests\n",
    "\n",
    "def test_ollama():\n",
    "    try:\n",
    "        response = requests.get(\"http://localhost:11434\")\n",
    "        if response.status_code == 200:\n",
    "            print(\"Ollama server is UP!\")\n",
    "        else:\n",
    "            print(f\"Ollama server responded with status code: {response.status_code}\")\n",
    "    except requests.exceptions.ConnectionError:\n",
    "        print(\"Ollama server is DOWN or unreachable on localhost:11434\")\n",
    "\n",
    "test_ollama()"
   ]
  },
  {
   "cell_type": "code",
   "execution_count": 4,
   "metadata": {},
   "outputs": [],
   "source": [
    "from src.inference import get_code, get_code_with_rag\n",
    "\n",
    "models = [\"mistral\", \"deepseek-coder-v2\", \"deepseek-r1\", \"llama3.2\"]\n",
    "models_expert = [ \"mistral\",\"deepseek-coder-v2\", \"deepseek-r1\", \"llama3.2\" ]\n"
   ]
  },
  {
   "cell_type": "code",
   "execution_count": 5,
   "metadata": {},
   "outputs": [],
   "source": [
    "from tqdm import tqdm\n",
    "\n",
    "\n",
    "#get_code(\"llama3.2\",\"llama3.2\", w_model_expert=True, lan_logic='Datalog')\n",
    "# get_code(\"deepseek-r1\", \"deepseek-r1\", w_model_expert=True, prompt_system=PROMPT_SYSTEM_kanren, prompt_system_expert=PROMPT_SYSTEM_EXPERT_kanren,lan_logic='karen')\n",
    "        \n",
    "            "
   ]
  },
  {
   "cell_type": "code",
   "execution_count": null,
   "metadata": {},
   "outputs": [],
   "source": [
    "get_code(\"llama3.2\",model_expert=\"llama3.2\", w_model_expert=True, prompt_system=PROMPT_SYSTEM, prompt_system_expert=PROMPT_MODEL_EXPERT,lan_logic='python')\n",
    " "
   ]
  },
  {
   "cell_type": "code",
   "execution_count": null,
   "metadata": {},
   "outputs": [
    {
     "name": "stdout",
     "output_type": "stream",
     "text": [
      "Chargement de la base Chroma existante...\n"
     ]
    },
    {
     "name": "stderr",
     "output_type": "stream",
     "text": [
      "c:\\Users\\FX506\\Desktop\\CS\\3A\\MVA\\LLM\\mva-llm-project\\myenv\\lib\\site-packages\\tqdm\\auto.py:21: TqdmWarning: IProgress not found. Please update jupyter and ipywidgets. See https://ipywidgets.readthedocs.io/en/stable/user_install.html\n",
      "  from .autonotebook import tqdm as notebook_tqdm\n",
      "c:\\Users\\FX506\\Desktop\\CS\\3A\\MVA\\LLM\\mva-llm-project\\notebooks\\..\\src\\inference.py:267: LangChainDeprecationWarning: The class `Chroma` was deprecated in LangChain 0.2.9 and will be removed in 1.0. An updated version of the class exists in the :class:`~langchain-chroma package and should be used instead. To use it run `pip install -U :class:`~langchain-chroma` and import as `from :class:`~langchain_chroma import Chroma``.\n",
      "  vectorstore = Chroma(persist_directory=CHROMA_PERSIST_DIR, embedding_function=embedding_model)\n"
     ]
    },
    {
     "name": "stdout",
     "output_type": "stream",
     "text": [
      "Base Chroma prête à être utilisée\n"
     ]
    }
   ],
   "source": [
    "#get_code_with_rag('llama3.2',model_expert='llama3.2', w_model_expert=True, prompt_system=PROMPT_SYSTEM_pandas, prompt_system_expert=PROMPT_SYSTEM_EXPERT_pandas,lan_logic='pandas')\n",
    "        \n"
   ]
  },
  {
   "cell_type": "code",
   "execution_count": null,
   "metadata": {},
   "outputs": [
    {
     "data": {
      "application/vnd.microsoft.datawrangler.viewer.v0+json": {
       "columns": [
        {
         "name": "index",
         "rawType": "int64",
         "type": "integer"
        },
        {
         "name": "PatientID",
         "rawType": "int64",
         "type": "integer"
        },
        {
         "name": "Disorder",
         "rawType": "object",
         "type": "string"
        },
        {
         "name": "Observed_Symptom",
         "rawType": "object",
         "type": "string"
        },
        {
         "name": "Observed_Week",
         "rawType": "float64",
         "type": "float"
        },
        {
         "name": "History_Condition",
         "rawType": "object",
         "type": "string"
        },
        {
         "name": "History_Count",
         "rawType": "object",
         "type": "unknown"
        },
        {
         "name": "Mood_Episode",
         "rawType": "object",
         "type": "string"
        }
       ],
       "conversionMethod": "pd.DataFrame",
       "ref": "2e5baa3c-5919-45fb-b79c-a099cb817a2d",
       "rows": [
        [
         "0",
         "1",
         "BPD2",
         "depressed_mood",
         "1.5",
         "depressive",
         "1.0",
         "Non renseigné"
        ],
        [
         "1",
         "1",
         "BPD2",
         "reduced_concentration",
         "1.2",
         "hypomanic",
         "1.0",
         "Non renseigné"
        ],
        [
         "2",
         "1",
         "BPD2",
         "reduced_energy",
         "0.8",
         "Non renseigné",
         "Non renseigné",
         "Non renseigné"
        ],
        [
         "3",
         "1",
         "BPD2",
         "increased_talkativeness",
         "0.6",
         "Non renseigné",
         "Non renseigné",
         "Non renseigné"
        ],
        [
         "4",
         "2",
         "RDD",
         "depressed_mood",
         "5.7",
         "depressive",
         "1.0",
         "depressive"
        ]
       ],
       "shape": {
        "columns": 7,
        "rows": 5
       }
      },
      "text/html": [
       "<div>\n",
       "<style scoped>\n",
       "    .dataframe tbody tr th:only-of-type {\n",
       "        vertical-align: middle;\n",
       "    }\n",
       "\n",
       "    .dataframe tbody tr th {\n",
       "        vertical-align: top;\n",
       "    }\n",
       "\n",
       "    .dataframe thead th {\n",
       "        text-align: right;\n",
       "    }\n",
       "</style>\n",
       "<table border=\"1\" class=\"dataframe\">\n",
       "  <thead>\n",
       "    <tr style=\"text-align: right;\">\n",
       "      <th></th>\n",
       "      <th>PatientID</th>\n",
       "      <th>Disorder</th>\n",
       "      <th>Observed_Symptom</th>\n",
       "      <th>Observed_Week</th>\n",
       "      <th>History_Condition</th>\n",
       "      <th>History_Count</th>\n",
       "      <th>Mood_Episode</th>\n",
       "    </tr>\n",
       "  </thead>\n",
       "  <tbody>\n",
       "    <tr>\n",
       "      <th>0</th>\n",
       "      <td>1</td>\n",
       "      <td>BPD2</td>\n",
       "      <td>depressed_mood</td>\n",
       "      <td>1.5</td>\n",
       "      <td>depressive</td>\n",
       "      <td>1.0</td>\n",
       "      <td>Non renseigné</td>\n",
       "    </tr>\n",
       "    <tr>\n",
       "      <th>1</th>\n",
       "      <td>1</td>\n",
       "      <td>BPD2</td>\n",
       "      <td>reduced_concentration</td>\n",
       "      <td>1.2</td>\n",
       "      <td>hypomanic</td>\n",
       "      <td>1.0</td>\n",
       "      <td>Non renseigné</td>\n",
       "    </tr>\n",
       "    <tr>\n",
       "      <th>2</th>\n",
       "      <td>1</td>\n",
       "      <td>BPD2</td>\n",
       "      <td>reduced_energy</td>\n",
       "      <td>0.8</td>\n",
       "      <td>Non renseigné</td>\n",
       "      <td>Non renseigné</td>\n",
       "      <td>Non renseigné</td>\n",
       "    </tr>\n",
       "    <tr>\n",
       "      <th>3</th>\n",
       "      <td>1</td>\n",
       "      <td>BPD2</td>\n",
       "      <td>increased_talkativeness</td>\n",
       "      <td>0.6</td>\n",
       "      <td>Non renseigné</td>\n",
       "      <td>Non renseigné</td>\n",
       "      <td>Non renseigné</td>\n",
       "    </tr>\n",
       "    <tr>\n",
       "      <th>4</th>\n",
       "      <td>2</td>\n",
       "      <td>RDD</td>\n",
       "      <td>depressed_mood</td>\n",
       "      <td>5.7</td>\n",
       "      <td>depressive</td>\n",
       "      <td>1.0</td>\n",
       "      <td>depressive</td>\n",
       "    </tr>\n",
       "  </tbody>\n",
       "</table>\n",
       "</div>"
      ],
      "text/plain": [
       "   PatientID Disorder         Observed_Symptom  Observed_Week  \\\n",
       "0          1     BPD2           depressed_mood            1.5   \n",
       "1          1     BPD2    reduced_concentration            1.2   \n",
       "2          1     BPD2           reduced_energy            0.8   \n",
       "3          1     BPD2  increased_talkativeness            0.6   \n",
       "4          2      RDD           depressed_mood            5.7   \n",
       "\n",
       "  History_Condition  History_Count   Mood_Episode  \n",
       "0        depressive            1.0  Non renseigné  \n",
       "1         hypomanic            1.0  Non renseigné  \n",
       "2     Non renseigné  Non renseigné  Non renseigné  \n",
       "3     Non renseigné  Non renseigné  Non renseigné  \n",
       "4        depressive            1.0     depressive  "
      ]
     },
     "execution_count": 16,
     "metadata": {},
     "output_type": "execute_result"
    }
   ],
   "source": [
    "df.head()"
   ]
  }
 ],
 "metadata": {
  "kernelspec": {
   "display_name": "myenv",
   "language": "python",
   "name": "python3"
  },
  "language_info": {
   "codemirror_mode": {
    "name": "ipython",
    "version": 3
   },
   "file_extension": ".py",
   "mimetype": "text/x-python",
   "name": "python",
   "nbconvert_exporter": "python",
   "pygments_lexer": "ipython3",
   "version": "3.10.0"
  }
 },
 "nbformat": 4,
 "nbformat_minor": 2
}
