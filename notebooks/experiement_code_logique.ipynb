{
 "cells": [
  {
   "cell_type": "markdown",
   "metadata": {},
   "source": [
    "# Module"
   ]
  },
  {
   "cell_type": "code",
   "execution_count": 2,
   "metadata": {},
   "outputs": [
    {
     "name": "stdout",
     "output_type": "stream",
     "text": [
      "cpu\n"
     ]
    }
   ],
   "source": [
    "import sys\n",
    "sys.path.append('../')\n",
    "import os\n",
    "import torch\n",
    "import ollama\n",
    "device=\"cuda\" if torch.cuda.is_available() else \"cpu\"\n",
    "print(device)\n",
    "from src.config import PATH_PROJECT, PROMPT_SYSTEM\n",
    "\n"
   ]
  },
  {
   "cell_type": "markdown",
   "metadata": {},
   "source": [
    "# Test models"
   ]
  },
  {
   "cell_type": "code",
   "execution_count": 12,
   "metadata": {},
   "outputs": [],
   "source": [
    "import pandas as pd \n",
    "df = pd.read_excel(os.path.join(PATH_PROJECT, \"data/\") + \"dataset.xlsx\").fillna(\"Non renseigné\")"
   ]
  },
  {
   "cell_type": "code",
   "execution_count": 4,
   "metadata": {},
   "outputs": [
    {
     "name": "stdout",
     "output_type": "stream",
     "text": [
      "Ollama server is UP!\n"
     ]
    }
   ],
   "source": [
    "import requests\n",
    "\n",
    "def test_ollama():\n",
    "    try:\n",
    "        response = requests.get(\"http://localhost:11434\")\n",
    "        if response.status_code == 200:\n",
    "            print(\"Ollama server is UP!\")\n",
    "        else:\n",
    "            print(f\"Ollama server responded with status code: {response.status_code}\")\n",
    "    except requests.exceptions.ConnectionError:\n",
    "        print(\"Ollama server is DOWN or unreachable on localhost:11434\")\n",
    "\n",
    "test_ollama()"
   ]
  },
  {
   "cell_type": "code",
   "execution_count": 5,
   "metadata": {},
   "outputs": [],
   "source": [
    "from src.inference import get_code, get_code_with_rag\n",
    "\n",
    "models = [\"mistral\", \"deepseek-coder-v2\", \"deepseek-r1\", \"llama3.2\"]\n",
    "models_expert = [ \"mistral\",\"deepseek-coder-v2\", \"deepseek-r1\", \"llama3.2\" ]\n"
   ]
  },
  {
   "cell_type": "code",
   "execution_count": 6,
   "metadata": {},
   "outputs": [],
   "source": [
    "from tqdm import tqdm\n",
    "from src.config import PROMPT_SYSTEM_pandas ,PROMPT_SYSTEM_EXPERT_pandas\n",
    "\n",
    "#get_code(\"llama3.2\",\"llama3.2\", w_model_expert=True, lan_logic='Datalog')\n",
    "# get_code(\"deepseek-r1\", \"deepseek-r1\", w_model_expert=True, prompt_system=PROMPT_SYSTEM_kanren, prompt_system_expert=PROMPT_SYSTEM_EXPERT_kanren,lan_logic='karen')\n",
    "        \n",
    "            "
   ]
  },
  {
   "cell_type": "code",
   "execution_count": 21,
   "metadata": {},
   "outputs": [
    {
     "name": "stdout",
     "output_type": "stream",
     "text": [
      " To translate the given diagnostic criteria into Python code using pandas, we need to define specific rules and symptoms associated with each disorder. We will then use these rules to check if a patient's observed symptoms and past conditions meet the criteria for one of the specified disorders. Here's how we can approach this:\n",
      "\n",
      "### Step-by-Step Reasoning:\n",
      "1. **Define Criteria for Each Disorder**: \n",
      "   - Bipolar I: Must have at least one manic episode, which can be either hypomanic or mixed.\n",
      "   - Bipolar II: Must have at least one major depressive episode and at least one hypomanic episode.\n",
      "   - Single Episode Depressive Disorder: Must have at least one major depressive episode.\n",
      "   - Recurrent Depressive Disorder: Must have multiple major depressive episodes within a certain timeframe, typically more than two episodes in the past year but less than five years.\n",
      "\n",
      "2. **Extract Relevant Symptoms and Conditions**:\n",
      "   - From 'Observed_Symptom' and 'Observed_Week', we can check if symptoms are present during specific weeks which might indicate an episode.\n",
      "   - From 'History_Condition' and 'History_Count', we can count the occurrences of depressive and hypomanic episodes to determine if they meet the criteria for a single or recurrent disorder.\n",
      "\n",
      "3. **Check Thresholds**:\n",
      "   - For Bipolar I, check for at least one manic episode (either hypomanic or mixed).\n",
      "   - For Bipolar II, check for at least one major depressive episode and at least one hypomanic episode.\n",
      "   - For Single Episode Depressive Disorder, check for at least one major depressive episode.\n",
      "   - For Recurrent Depressive Disorder, count multiple major depressive episodes within a specified timeframe (e.g., past year).\n",
      "\n",
      "4. **Return Diagnosis**:\n",
      "   - Based on the checks, return 'BipolarI', 'BipolarII', 'SingleEpisodeDepressiveDisorder', or 'RecurrentDepressiveDisorder' if criteria are met. If none of these criteria are met, return 'No diagnosis'.\n",
      "\n",
      "### Code Generation:\n",
      "```python\n",
      "import pandas as pd\n",
      "\n",
      "def diagnose(row):\n",
      "    observed_symptoms = set(row['Observed_Symptom'])\n",
      "    observed_weeks = row['Observed_Week']\n",
      "    history_conditions = row['History_Condition']\n",
      "    history_counts = row['History_Count']\n",
      "    \n",
      "    # Check for Bipolar I: At least one manic episode (hypomanic or mixed)\n",
      "    bipolar_i_symptoms = {'Mania', 'Hypomania', 'Mixed'}\n",
      "    manic_episodes = [s for s in observed_symptoms if s in bipolar_i_symptoms]\n",
      "    history_manic_episodes = [c for c, cnt in zip(history_conditions, history_counts) if c == 'Manic']\n",
      "    \n",
      "    if len(manic_episodes) > 0 or len([h for h in history_manic_episodes]) > 0:\n",
      "        return 'BipolarI'\n",
      "    \n",
      "    # Check for Bipolar II: At least one major depressive episode and at least one hypomanic episode\n",
      "    bipolar_ii_symptoms = {'MajorDepressive', 'Hypomania'}\n",
      "    depressive_episodes = [s for s in observed_symptoms if s == 'MajorDepressive']\n",
      "    hypomanic_episodes = [s for s in observed_symptoms if s == 'Hypomania']\n",
      "    \n",
      "    history_depressive_episodes = [c for c, cnt in zip(history_conditions, history_counts) if c == 'MajorDepressive']\n",
      "    history_hypomanic_episodes = [c for c, cnt in zip(history_conditions, history_counts) if c == 'Hypomania']\n",
      "    \n",
      "    if len(depressive_episodes) > 0 and (len(hypomanic_episodes) > 0 or len(history_hypomanic_episodes) > 0):\n",
      "        return 'BipolarII'\n",
      "    \n",
      "    # Check for Single Episode Depressive Disorder: At least one major depressive episode\n",
      "    if len(depressive_episodes) > 0 or len([h for h in history_depressive_episodes]) > 0:\n",
      "        return 'SingleEpisodeDepressiveDisorder'\n",
      "    \n",
      "    # Check for Recurrent Depressive Disorder: Multiple major depressive episodes within a year\n",
      "    if len(history_depressive_episodes) > 1:\n",
      "        return 'RecurrentDepressiveDisorder'\n",
      "    \n",
      "    return 'No diagnosis'\n",
      "```\n",
      "\n",
      "This function will check each row of the DataFrame to determine if it meets any of the specified bipolar disorder criteria. It uses basic pandas operations like set membership and counting, which are efficient for this kind of data manipulation task.\n"
     ]
    }
   ],
   "source": [
    "get_code(\"deepseek-coder-v2\",model_expert=None, w_model_expert=False, prompt_system=PROMPT_SYSTEM_pandas, prompt_system_expert=PROMPT_SYSTEM_EXPERT_pandas,lan_logic='pandas')\n",
    " "
   ]
  },
  {
   "cell_type": "code",
   "execution_count": 22,
   "metadata": {},
   "outputs": [
    {
     "name": "stdout",
     "output_type": "stream",
     "text": [
      "Chargement de la base Chroma existante...\n"
     ]
    },
    {
     "name": "stderr",
     "output_type": "stream",
     "text": [
      "c:\\Users\\FX506\\Desktop\\CS\\3A\\MVA\\LLM\\mva-llm-project\\myenv\\lib\\site-packages\\tqdm\\auto.py:21: TqdmWarning: IProgress not found. Please update jupyter and ipywidgets. See https://ipywidgets.readthedocs.io/en/stable/user_install.html\n",
      "  from .autonotebook import tqdm as notebook_tqdm\n",
      "c:\\Users\\FX506\\Desktop\\CS\\3A\\MVA\\LLM\\mva-llm-project\\notebooks\\..\\src\\inference.py:267: LangChainDeprecationWarning: The class `Chroma` was deprecated in LangChain 0.2.9 and will be removed in 1.0. An updated version of the class exists in the :class:`~langchain-chroma package and should be used instead. To use it run `pip install -U :class:`~langchain-chroma` and import as `from :class:`~langchain_chroma import Chroma``.\n",
      "  vectorstore = Chroma(persist_directory=CHROMA_PERSIST_DIR, embedding_function=embedding_model)\n"
     ]
    },
    {
     "name": "stdout",
     "output_type": "stream",
     "text": [
      "Base Chroma prête à être utilisée\n"
     ]
    }
   ],
   "source": [
    "get_code_with_rag('llama3.2',model_expert='llama3.2', w_model_expert=True, prompt_system=PROMPT_SYSTEM_pandas, prompt_system_expert=PROMPT_SYSTEM_EXPERT_pandas,lan_logic='pandas')\n",
    "        \n"
   ]
  },
  {
   "cell_type": "code",
   "execution_count": 16,
   "metadata": {},
   "outputs": [
    {
     "data": {
      "application/vnd.microsoft.datawrangler.viewer.v0+json": {
       "columns": [
        {
         "name": "index",
         "rawType": "int64",
         "type": "integer"
        },
        {
         "name": "PatientID",
         "rawType": "int64",
         "type": "integer"
        },
        {
         "name": "Disorder",
         "rawType": "object",
         "type": "string"
        },
        {
         "name": "Observed_Symptom",
         "rawType": "object",
         "type": "string"
        },
        {
         "name": "Observed_Week",
         "rawType": "float64",
         "type": "float"
        },
        {
         "name": "History_Condition",
         "rawType": "object",
         "type": "string"
        },
        {
         "name": "History_Count",
         "rawType": "object",
         "type": "unknown"
        },
        {
         "name": "Mood_Episode",
         "rawType": "object",
         "type": "string"
        }
       ],
       "conversionMethod": "pd.DataFrame",
       "ref": "2e5baa3c-5919-45fb-b79c-a099cb817a2d",
       "rows": [
        [
         "0",
         "1",
         "BPD2",
         "depressed_mood",
         "1.5",
         "depressive",
         "1.0",
         "Non renseigné"
        ],
        [
         "1",
         "1",
         "BPD2",
         "reduced_concentration",
         "1.2",
         "hypomanic",
         "1.0",
         "Non renseigné"
        ],
        [
         "2",
         "1",
         "BPD2",
         "reduced_energy",
         "0.8",
         "Non renseigné",
         "Non renseigné",
         "Non renseigné"
        ],
        [
         "3",
         "1",
         "BPD2",
         "increased_talkativeness",
         "0.6",
         "Non renseigné",
         "Non renseigné",
         "Non renseigné"
        ],
        [
         "4",
         "2",
         "RDD",
         "depressed_mood",
         "5.7",
         "depressive",
         "1.0",
         "depressive"
        ]
       ],
       "shape": {
        "columns": 7,
        "rows": 5
       }
      },
      "text/html": [
       "<div>\n",
       "<style scoped>\n",
       "    .dataframe tbody tr th:only-of-type {\n",
       "        vertical-align: middle;\n",
       "    }\n",
       "\n",
       "    .dataframe tbody tr th {\n",
       "        vertical-align: top;\n",
       "    }\n",
       "\n",
       "    .dataframe thead th {\n",
       "        text-align: right;\n",
       "    }\n",
       "</style>\n",
       "<table border=\"1\" class=\"dataframe\">\n",
       "  <thead>\n",
       "    <tr style=\"text-align: right;\">\n",
       "      <th></th>\n",
       "      <th>PatientID</th>\n",
       "      <th>Disorder</th>\n",
       "      <th>Observed_Symptom</th>\n",
       "      <th>Observed_Week</th>\n",
       "      <th>History_Condition</th>\n",
       "      <th>History_Count</th>\n",
       "      <th>Mood_Episode</th>\n",
       "    </tr>\n",
       "  </thead>\n",
       "  <tbody>\n",
       "    <tr>\n",
       "      <th>0</th>\n",
       "      <td>1</td>\n",
       "      <td>BPD2</td>\n",
       "      <td>depressed_mood</td>\n",
       "      <td>1.5</td>\n",
       "      <td>depressive</td>\n",
       "      <td>1.0</td>\n",
       "      <td>Non renseigné</td>\n",
       "    </tr>\n",
       "    <tr>\n",
       "      <th>1</th>\n",
       "      <td>1</td>\n",
       "      <td>BPD2</td>\n",
       "      <td>reduced_concentration</td>\n",
       "      <td>1.2</td>\n",
       "      <td>hypomanic</td>\n",
       "      <td>1.0</td>\n",
       "      <td>Non renseigné</td>\n",
       "    </tr>\n",
       "    <tr>\n",
       "      <th>2</th>\n",
       "      <td>1</td>\n",
       "      <td>BPD2</td>\n",
       "      <td>reduced_energy</td>\n",
       "      <td>0.8</td>\n",
       "      <td>Non renseigné</td>\n",
       "      <td>Non renseigné</td>\n",
       "      <td>Non renseigné</td>\n",
       "    </tr>\n",
       "    <tr>\n",
       "      <th>3</th>\n",
       "      <td>1</td>\n",
       "      <td>BPD2</td>\n",
       "      <td>increased_talkativeness</td>\n",
       "      <td>0.6</td>\n",
       "      <td>Non renseigné</td>\n",
       "      <td>Non renseigné</td>\n",
       "      <td>Non renseigné</td>\n",
       "    </tr>\n",
       "    <tr>\n",
       "      <th>4</th>\n",
       "      <td>2</td>\n",
       "      <td>RDD</td>\n",
       "      <td>depressed_mood</td>\n",
       "      <td>5.7</td>\n",
       "      <td>depressive</td>\n",
       "      <td>1.0</td>\n",
       "      <td>depressive</td>\n",
       "    </tr>\n",
       "  </tbody>\n",
       "</table>\n",
       "</div>"
      ],
      "text/plain": [
       "   PatientID Disorder         Observed_Symptom  Observed_Week  \\\n",
       "0          1     BPD2           depressed_mood            1.5   \n",
       "1          1     BPD2    reduced_concentration            1.2   \n",
       "2          1     BPD2           reduced_energy            0.8   \n",
       "3          1     BPD2  increased_talkativeness            0.6   \n",
       "4          2      RDD           depressed_mood            5.7   \n",
       "\n",
       "  History_Condition  History_Count   Mood_Episode  \n",
       "0        depressive            1.0  Non renseigné  \n",
       "1         hypomanic            1.0  Non renseigné  \n",
       "2     Non renseigné  Non renseigné  Non renseigné  \n",
       "3     Non renseigné  Non renseigné  Non renseigné  \n",
       "4        depressive            1.0     depressive  "
      ]
     },
     "execution_count": 16,
     "metadata": {},
     "output_type": "execute_result"
    }
   ],
   "source": [
    "df.head()"
   ]
  },
  {
   "cell_type": "code",
   "execution_count": null,
   "metadata": {},
   "outputs": [],
   "source": [
    "import pandas as pd\n",
    "\n",
    "def diagnose(row):\n",
    "    # Define relevant symptom and condition names\n",
    "    symptom_names = [\"depressed mood\", \"manic/hypomanic mood\", \"elevated/mixed mood\", \"decreased need for sleep\"]\n",
    "    condition_names = [\"Depressive Disorder, single episode\", \"Depressive Disorder, recurrent (not otherwise specified)\", \n",
    "                       \"Bipolar I Disorder\", \"Bipolar II Disorder\"]\n",
    "\n",
    "    # Check if there is at least one mood symptom\n",
    "    has_mood_symptoms = any(sym in row['Observed_Symptom'] for sym in symptom_names)\n",
    "    \n",
    "    # Define thresholds for each disorder\n",
    "    bipolar_i_threshold = 4\n",
    "    bipolar_ii_threshold = 3\n",
    "    \n",
    "    # Determine diagnosis based on presence of mood symptoms and thresholds\n",
    "    if not has_mood_symptoms:\n",
    "        return 'No diagnosis'\n",
    "    elif sum(row['History_Count']) >= bipolar_i_threshold:\n",
    "        return 'Bipolar I Disorder' if row['Observed_Symptom'].any() else 'Depressive Disorder, recurrent (not otherwise specified)'\n",
    "    elif any(sym in row['Observed_Symptom'] for sym in [\"depressed mood\", \"manic/hypomanic mood\"]) and sum(row['History_Count']) >= bipolar_ii_threshold:\n",
    "        return 'Bipolar II Disorder'\n",
    "    elif len([sym for sym, count in zip(row['Observed_Symptom'], row['History_Count']) if any(sym in names for names in condition_names) and count > 1]) == 2:\n",
    "        return 'Single Episode Depressive Disorder'\n",
    "    else:\n",
    "        return 'Recurrent Depressive Disorder'"
   ]
  }
 ],
 "metadata": {
  "kernelspec": {
   "display_name": "myenv",
   "language": "python",
   "name": "python3"
  },
  "language_info": {
   "codemirror_mode": {
    "name": "ipython",
    "version": 3
   },
   "file_extension": ".py",
   "mimetype": "text/x-python",
   "name": "python",
   "nbconvert_exporter": "python",
   "pygments_lexer": "ipython3",
   "version": "3.10.0"
  }
 },
 "nbformat": 4,
 "nbformat_minor": 2
}
