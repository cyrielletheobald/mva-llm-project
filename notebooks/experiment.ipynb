{
 "cells": [
  {
   "cell_type": "code",
   "execution_count": 1,
   "metadata": {},
   "outputs": [],
   "source": [
    "import sys\n",
    "sys.path.append('../')"
   ]
  },
  {
   "cell_type": "code",
   "execution_count": 2,
   "metadata": {},
   "outputs": [],
   "source": [
<<<<<<< HEAD
    "%load_ext autoreload\n",
    "%autoreload 2"
=======
    "# %load_ext autoreload\n",
    "# %autoreload 2"
>>>>>>> c9fdc50ea2135143d18575a7af294c88b2dafc37
   ]
  },
  {
   "cell_type": "markdown",
   "metadata": {},
   "source": [
    "# RAG"
   ]
  },
  {
   "cell_type": "code",
   "execution_count": 3,
   "metadata": {},
   "outputs": [
    {
     "name": "stdout",
     "output_type": "stream",
     "text": [
      "cpu\n"
     ]
    }
   ],
   "source": [
    "import os\n",
    "import torch\n",
<<<<<<< HEAD
=======
    "import ollama\n",
>>>>>>> c9fdc50ea2135143d18575a7af294c88b2dafc37
    "from langchain.document_loaders import PyMuPDFLoader\n",
    "from langchain.vectorstores import Chroma\n",
    "from langchain.text_splitter import RecursiveCharacterTextSplitter\n",
    "from langchain_huggingface import HuggingFaceEmbeddings\n",
    "device=\"cuda\" if torch.cuda.is_available() else \"cpu\"\n",
    "print(device)"
   ]
  },
  {
   "cell_type": "code",
<<<<<<< HEAD
   "execution_count": null,
=======
   "execution_count": 4,
>>>>>>> c9fdc50ea2135143d18575a7af294c88b2dafc37
   "metadata": {},
   "outputs": [
    {
     "name": "stdout",
     "output_type": "stream",
     "text": [
<<<<<<< HEAD
      "Chargement de la base Chroma existante...\n",
=======
      "Chargement de la base Chroma existante...\n"
     ]
    },
    {
     "name": "stderr",
     "output_type": "stream",
     "text": [
      "c:\\Users\\cyrie\\AppData\\Local\\Programs\\Python\\Python312\\Lib\\site-packages\\tqdm\\auto.py:21: TqdmWarning: IProgress not found. Please update jupyter and ipywidgets. See https://ipywidgets.readthedocs.io/en/stable/user_install.html\n",
      "  from .autonotebook import tqdm as notebook_tqdm\n",
      "C:\\Users\\cyrie\\AppData\\Local\\Temp\\ipykernel_26440\\3523803818.py:36: LangChainDeprecationWarning: The class `Chroma` was deprecated in LangChain 0.2.9 and will be removed in 1.0. An updated version of the class exists in the :class:`~langchain-chroma package and should be used instead. To use it run `pip install -U :class:`~langchain-chroma` and import as `from :class:`~langchain_chroma import Chroma``.\n",
      "  vectorstore = Chroma(persist_directory=CHROMA_PERSIST_DIR, embedding_function=embedding_model)\n"
     ]
    },
    {
     "name": "stdout",
     "output_type": "stream",
     "text": [
>>>>>>> c9fdc50ea2135143d18575a7af294c88b2dafc37
      "Base Chroma prête à être utilisée\n"
     ]
    }
   ],
   "source": [
<<<<<<< HEAD
    "from src.config import PATH_PROJECT\n",
=======
    "from src.config import PATH_PROJECT, PROMPT_SYSTEM\n",
    "\n",
    "# PATH_PROJECT = r'C:\\Users\\FX506\\Desktop\\CS\\3A\\MVA\\LLM\\mva-llm-project'\n",
    "PATH_PROJECT = r'C:\\Users\\cyrie\\Documents\\Cours\\2024-2025_3A\\ENS_MVA\\LLM\\mva-llm-project'\n",
>>>>>>> c9fdc50ea2135143d18575a7af294c88b2dafc37
    "CHROMA_PERSIST_DIR = os.path.join(PATH_PROJECT, \"data/chroma_db/\")\n",
    "\n",
    "if not os.path.exists(CHROMA_PERSIST_DIR) or not os.listdir(CHROMA_PERSIST_DIR):\n",
    "    print(\"🆕 Création de la base Chroma et indexation des documents...\")\n",
    "\n",
    "    # Charger les fichiers PDF\n",
    "    data_dir = os.path.join(PATH_PROJECT, \"data/\")\n",
    "    documents = []\n",
    "\n",
    "    for file in os.listdir(data_dir):\n",
    "        if file.endswith(\".pdf\"):\n",
    "            pdf_path = os.path.join(data_dir, file)\n",
    "            pdf_loader = PyMuPDFLoader(pdf_path)\n",
    "            documents.extend(pdf_loader.load())\n",
    "\n",
    "    # Diviser les documents en chunks\n",
    "    text_splitter = RecursiveCharacterTextSplitter(chunk_size=500, chunk_overlap=50)\n",
    "    docs = text_splitter.split_documents(documents)\n",
    "\n",
    "    embedding_model = HuggingFaceEmbeddings(model_name=\"all-MiniLM-L6-v2\",\n",
    "                                       model_kwargs={'device': device}, encode_kwargs={'device': device})\n",
    "\n",
    "    # Initialiser Chroma avec les embeddings \n",
    "    vectorstore = Chroma.from_documents(docs, embedding_model, persist_directory=CHROMA_PERSIST_DIR)\n",
    "    vectorstore.persist()\n",
    "    print(\"Base Chroma sauvegardée avec succès\")\n",
    "\n",
    "else:\n",
    "    print(\"Chargement de la base Chroma existante...\")\n",
    "    embedding_model = HuggingFaceEmbeddings(model_name=\"all-MiniLM-L6-v2\",\n",
    "                                       model_kwargs={'device': device}, encode_kwargs={'device': device})\n",
    "    vectorstore = Chroma(persist_directory=CHROMA_PERSIST_DIR, embedding_function=embedding_model)\n",
    "\n",
    "print(\"Base Chroma prête à être utilisée\")"
   ]
  },
  {
   "cell_type": "code",
<<<<<<< HEAD
   "execution_count": 6,
=======
   "execution_count": 5,
>>>>>>> c9fdc50ea2135143d18575a7af294c88b2dafc37
   "metadata": {},
   "outputs": [
    {
     "name": "stdout",
     "output_type": "stream",
     "text": [
      "259\n",
      "Mood disorders\n",
      "•\t Depressive symptoms include depressed mood or markedly diminished interest or \n",
      "pleasure in activities.\n",
      "•\t There are multiple anxiety symptoms, which may include feeling nervous, anxious or on \n",
      "edge, not being able to control worrying thoughts, fear that something awful will happen, \n",
      "having trouble relaxing, muscle tension or sympathetic autonomic symptoms.\n",
      "•\t Neither the depressive nor the anxiety symptoms – considered separately – are sufficiently\n",
      "guilt, anger, denial, blame, difficulty accepting the death, feeling one has lost a part of one’s self, \n",
      "inability to experience positive mood, emotional numbness, difficulty in engaging with social or \n",
      "other activities). Some common symptoms of prolonged grief disorder are similar to those observed \n",
      "in a depressive episode (e.g. sadness, loss of interest in activities, social withdrawal, feelings of guilt,\n",
      "•\t The symptoms include:\n",
      "•\t at least one affective symptom such as mood lability, irritability, depressed mood or \n",
      "anxiety;\n",
      "•\t additional somatic or cognitive symptoms such as lethargy, joint pain, overeating, \n",
      "hypersomnia, breast tenderness, swelling of extremities, concentration difficulties or \n",
      "forgetfulness.\n",
      "•\t The symptoms are not better accounted for by another mental disorder (e.g. a mood \n",
      "disorder, an anxiety or fear-related disorder).\n",
      "6A7Z\n",
      "GA34.41\n"
     ]
    }
   ],
   "source": [
    "query = \"What are the symptoms of depression ?\"\n",
    "retrieved_docs = vectorstore.similarity_search(query, k=3)\n",
    "\n",
    "for doc in retrieved_docs:\n",
    "    print(doc.page_content)  # Afficher les documents les plus pertinents"
   ]
  },
  {
   "cell_type": "code",
<<<<<<< HEAD
   "execution_count": null,
   "metadata": {},
   "outputs": [
    {
     "name": "stdout",
     "output_type": "stream",
     "text": [
      " Depression symptoms include depressed mood or markedly diminished interest or pleasure in activities, feelings of guilt or worthlessness, fatigue or loss of energy, difficulty concentrating, changes in appetite or sleep, and recurrent thoughts of death or suicide. Additionally, there may be somatic or cognitive symptoms such as lethargy, joint pain, overeating, hypersomnia, breast tenderness, swelling of extremities, concentration difficulties or forgetfulness. It's important to note that these symptoms can vary in severity and may not always be present for every individual experiencing depression. If you or someone else is struggling with these symptoms, it's essential to seek help from a healthcare professional.\n"
     ]
    }
   ],
   "source": [
    "import ollama\n",
    "\n",
    "context = \"\\n\\n\".join([doc.page_content for doc in retrieved_docs])\n",
    "prompt = f\"Contexte:\\n{context}\\n\\nQuestion: {query}\\nRéponse:\"\n",
    "\n",
    "response = ollama.chat(model=\"mistral\", messages=[{\"role\": \"user\", \"content\": prompt}])\n",
    "print(response['message'].content)"
=======
   "execution_count": 6,
   "metadata": {},
   "outputs": [],
   "source": [
    "# import ollama\n",
    "\n",
    "# context = \"\\n\\n\".join([doc.page_content for doc in retrieved_docs])\n",
    "# prompt = f\"Contexte:\\n{context}\\n\\nQuestion: {query}\\nRéponse:\"\n",
    "\n",
    "\n",
    "# response = ollama.chat(model=\"deepseek-coder-v2\", messages=[{\"role\": \"user\", \"content\": prompt}])\n",
    "# print(response['message'].content)"
   ]
  },
  {
   "cell_type": "code",
   "execution_count": 7,
   "metadata": {},
   "outputs": [],
   "source": [
    "import pandas as pd \n",
    "df = pd.read_excel(os.path.join(PATH_PROJECT, \"data/\") + \"dataset.xlsx\").fillna(\"Non renseigné\")"
>>>>>>> c9fdc50ea2135143d18575a7af294c88b2dafc37
   ]
  },
  {
   "cell_type": "markdown",
   "metadata": {},
   "source": [
<<<<<<< HEAD
    "# LLM only approach"
=======
    "## Pandas"
>>>>>>> c9fdc50ea2135143d18575a7af294c88b2dafc37
   ]
  },
  {
   "cell_type": "code",
<<<<<<< HEAD
   "execution_count": 3,
   "metadata": {},
   "outputs": [],
   "source": [
    "from src.inference import get_answer"
=======
   "execution_count": 8,
   "metadata": {},
   "outputs": [
    {
     "name": "stderr",
     "output_type": "stream",
     "text": [
      "c:\\Users\\cyrie\\Documents\\Cours\\2024-2025_3A\\ENS_MVA\\LLM\\mva-llm-project\\notebooks\\..\\src\\inference.py:222: SyntaxWarning: invalid escape sequence '\\c'\n",
      "  • Relevant condition names for History relation: [Condition names]'''\n"
     ]
    },
    {
     "name": "stdout",
     "output_type": "stream",
     "text": [
      "None\n"
     ]
    }
   ],
   "source": [
    "from src.inference import get_code_with_rag\n",
    "from src.config import PROMPT_SYSTEM_pandas, PROMPT_SYSTEM_EXPERT_pandas\n",
    "code = get_code_with_rag(model = \"mistral\", model_expert = \"mistral\",\n",
    "                  w_model_expert = True,\n",
    "                  prompt_system=PROMPT_SYSTEM_pandas, \n",
    "                  prompt_system_expert=PROMPT_SYSTEM_EXPERT_pandas, \n",
    "                  lan_logic = 'pandas', vectorstore=vectorstore) \n",
    "print(code)"
   ]
  },
  {
   "cell_type": "code",
   "execution_count": null,
   "metadata": {},
   "outputs": [
    {
     "ename": "ResponseError",
     "evalue": "model \"llama-3.2\" not found, try pulling it first (status code: 404)",
     "output_type": "error",
     "traceback": [
      "\u001b[1;31m---------------------------------------------------------------------------\u001b[0m\n",
      "\u001b[1;31mResponseError\u001b[0m                             Traceback (most recent call last)\n",
      "Cell \u001b[1;32mIn[3], line 1\u001b[0m\n",
      "\u001b[1;32m----> 1\u001b[0m \u001b[43mget_code\u001b[49m\u001b[43m(\u001b[49m\u001b[43m(\u001b[49m\u001b[38;5;124;43m\"\u001b[39;49m\u001b[38;5;124;43mllama-3.2\u001b[39;49m\u001b[38;5;124;43m\"\u001b[39;49m\u001b[43m)\u001b[49m\u001b[43m)\u001b[49m\n",
      "\n",
      "File \u001b[1;32mc:\\Users\\FX506\\Desktop\\CS\\3A\\MVA\\LLM\\mva-llm-project\\notebooks\\..\\src\\inference.py:73\u001b[0m, in \u001b[0;36mget_code\u001b[1;34m(model)\u001b[0m\n",
      "\u001b[0;32m     65\u001b[0m \u001b[38;5;28;01mdef\u001b[39;00m\u001b[38;5;250m \u001b[39m\u001b[38;5;21mget_code\u001b[39m(model \u001b[38;5;241m=\u001b[39m \u001b[38;5;124m'\u001b[39m\u001b[38;5;124mdeepseek-coder-v2\u001b[39m\u001b[38;5;124m'\u001b[39m) : \n",
      "\u001b[0;32m     66\u001b[0m     user \u001b[38;5;241m=\u001b[39m \u001b[38;5;124mf\u001b[39m\u001b[38;5;124m'''\u001b[39m\u001b[38;5;124mNow, translate the following criteria into python code WITH THE PACKAGE pyDatalog for Bipolar I, Bipolar II, Single Episode Depressive Disorder, and\u001b[39m\n",
      "\u001b[0;32m     67\u001b[0m \u001b[38;5;124mRecurrent Depressive Disorder. IT MUST BE IN PYTHON WITH THE PACKAGE pyDatalog.\u001b[39m\n",
      "\u001b[0;32m     68\u001b[0m \u001b[38;5;124m• Mood Episode criterion: [Depressive, Manic, Mixed, and Hypomanic Episode criteria from ICD-11 CDDR].\u001b[39m\n",
      "\u001b[1;32m   (...)\u001b[0m\n",
      "\u001b[0;32m     71\u001b[0m \u001b[38;5;124m• Relevant symptom names for Observed relation: [Symptom names]\u001b[39m\n",
      "\u001b[0;32m     72\u001b[0m \u001b[38;5;124m• Relevant condition names for History relation: [Condition names]\u001b[39m\u001b[38;5;124m'''\u001b[39m\n",
      "\u001b[1;32m---> 73\u001b[0m     response \u001b[38;5;241m=\u001b[39m \u001b[43mollama\u001b[49m\u001b[38;5;241;43m.\u001b[39;49m\u001b[43mchat\u001b[49m\u001b[43m(\u001b[49m\n",
      "\u001b[0;32m     74\u001b[0m \u001b[43m    \u001b[49m\u001b[43mmodel\u001b[49m\u001b[38;5;241;43m=\u001b[39;49m\u001b[43mmodel\u001b[49m\u001b[43m,\u001b[49m\n",
      "\u001b[0;32m     75\u001b[0m \u001b[43m    \u001b[49m\u001b[43mmessages\u001b[49m\u001b[38;5;241;43m=\u001b[39;49m\u001b[43m[\u001b[49m\n",
      "\u001b[0;32m     76\u001b[0m \u001b[43m        \u001b[49m\u001b[43m{\u001b[49m\u001b[38;5;124;43m\"\u001b[39;49m\u001b[38;5;124;43mrole\u001b[39;49m\u001b[38;5;124;43m\"\u001b[39;49m\u001b[43m:\u001b[49m\u001b[43m \u001b[49m\u001b[38;5;124;43m\"\u001b[39;49m\u001b[38;5;124;43msystem\u001b[39;49m\u001b[38;5;124;43m\"\u001b[39;49m\u001b[43m,\u001b[49m\u001b[43m \u001b[49m\u001b[38;5;124;43m\"\u001b[39;49m\u001b[38;5;124;43mcontent\u001b[39;49m\u001b[38;5;124;43m\"\u001b[39;49m\u001b[43m:\u001b[49m\u001b[43m \u001b[49m\u001b[43mPROMPT_SYSTEM\u001b[49m\u001b[43m}\u001b[49m\u001b[43m,\u001b[49m\n",
      "\u001b[0;32m     77\u001b[0m \u001b[43m        \u001b[49m\u001b[43m{\u001b[49m\u001b[38;5;124;43m\"\u001b[39;49m\u001b[38;5;124;43mrole\u001b[39;49m\u001b[38;5;124;43m\"\u001b[39;49m\u001b[43m:\u001b[49m\u001b[43m \u001b[49m\u001b[38;5;124;43m\"\u001b[39;49m\u001b[38;5;124;43muser\u001b[39;49m\u001b[38;5;124;43m\"\u001b[39;49m\u001b[43m,\u001b[49m\u001b[43m \u001b[49m\u001b[38;5;124;43m\"\u001b[39;49m\u001b[38;5;124;43mcontent\u001b[39;49m\u001b[38;5;124;43m\"\u001b[39;49m\u001b[43m:\u001b[49m\u001b[43m \u001b[49m\u001b[43muser\u001b[49m\u001b[43m}\u001b[49m\n",
      "\u001b[0;32m     78\u001b[0m \u001b[43m    \u001b[49m\u001b[43m]\u001b[49m\u001b[43m)\u001b[49m\n",
      "\u001b[0;32m     79\u001b[0m     code \u001b[38;5;241m=\u001b[39m traitement_reponse(response[\u001b[38;5;124m'\u001b[39m\u001b[38;5;124mmessage\u001b[39m\u001b[38;5;124m'\u001b[39m]\u001b[38;5;241m.\u001b[39mcontent)\n",
      "\u001b[0;32m     80\u001b[0m     check_expert(model, code)\n",
      "\n",
      "File \u001b[1;32mc:\\Users\\FX506\\Desktop\\CS\\3A\\MVA\\LLM\\mva-llm-project\\myenv\\lib\\site-packages\\ollama\\_client.py:333\u001b[0m, in \u001b[0;36mClient.chat\u001b[1;34m(self, model, messages, tools, stream, format, options, keep_alive)\u001b[0m\n",
      "\u001b[0;32m    289\u001b[0m \u001b[38;5;28;01mdef\u001b[39;00m\u001b[38;5;250m \u001b[39m\u001b[38;5;21mchat\u001b[39m(\n",
      "\u001b[0;32m    290\u001b[0m   \u001b[38;5;28mself\u001b[39m,\n",
      "\u001b[0;32m    291\u001b[0m   model: \u001b[38;5;28mstr\u001b[39m \u001b[38;5;241m=\u001b[39m \u001b[38;5;124m'\u001b[39m\u001b[38;5;124m'\u001b[39m,\n",
      "\u001b[1;32m   (...)\u001b[0m\n",
      "\u001b[0;32m    298\u001b[0m   keep_alive: Optional[Union[\u001b[38;5;28mfloat\u001b[39m, \u001b[38;5;28mstr\u001b[39m]] \u001b[38;5;241m=\u001b[39m \u001b[38;5;28;01mNone\u001b[39;00m,\n",
      "\u001b[0;32m    299\u001b[0m ) \u001b[38;5;241m-\u001b[39m\u001b[38;5;241m>\u001b[39m Union[ChatResponse, Iterator[ChatResponse]]:\n",
      "\u001b[0;32m    300\u001b[0m \u001b[38;5;250m  \u001b[39m\u001b[38;5;124;03m\"\"\"\u001b[39;00m\n",
      "\u001b[0;32m    301\u001b[0m \u001b[38;5;124;03m  Create a chat response using the requested model.\u001b[39;00m\n",
      "\u001b[0;32m    302\u001b[0m \n",
      "\u001b[1;32m   (...)\u001b[0m\n",
      "\u001b[0;32m    331\u001b[0m \u001b[38;5;124;03m  Returns `ChatResponse` if `stream` is `False`, otherwise returns a `ChatResponse` generator.\u001b[39;00m\n",
      "\u001b[0;32m    332\u001b[0m \u001b[38;5;124;03m  \"\"\"\u001b[39;00m\n",
      "\u001b[1;32m--> 333\u001b[0m   \u001b[38;5;28;01mreturn\u001b[39;00m \u001b[38;5;28;43mself\u001b[39;49m\u001b[38;5;241;43m.\u001b[39;49m\u001b[43m_request\u001b[49m\u001b[43m(\u001b[49m\n",
      "\u001b[0;32m    334\u001b[0m \u001b[43m    \u001b[49m\u001b[43mChatResponse\u001b[49m\u001b[43m,\u001b[49m\n",
      "\u001b[0;32m    335\u001b[0m \u001b[43m    \u001b[49m\u001b[38;5;124;43m'\u001b[39;49m\u001b[38;5;124;43mPOST\u001b[39;49m\u001b[38;5;124;43m'\u001b[39;49m\u001b[43m,\u001b[49m\n",
      "\u001b[0;32m    336\u001b[0m \u001b[43m    \u001b[49m\u001b[38;5;124;43m'\u001b[39;49m\u001b[38;5;124;43m/api/chat\u001b[39;49m\u001b[38;5;124;43m'\u001b[39;49m\u001b[43m,\u001b[49m\n",
      "\u001b[0;32m    337\u001b[0m \u001b[43m    \u001b[49m\u001b[43mjson\u001b[49m\u001b[38;5;241;43m=\u001b[39;49m\u001b[43mChatRequest\u001b[49m\u001b[43m(\u001b[49m\n",
      "\u001b[0;32m    338\u001b[0m \u001b[43m      \u001b[49m\u001b[43mmodel\u001b[49m\u001b[38;5;241;43m=\u001b[39;49m\u001b[43mmodel\u001b[49m\u001b[43m,\u001b[49m\n",
      "\u001b[0;32m    339\u001b[0m \u001b[43m      \u001b[49m\u001b[43mmessages\u001b[49m\u001b[38;5;241;43m=\u001b[39;49m\u001b[43m[\u001b[49m\u001b[43mmessage\u001b[49m\u001b[43m \u001b[49m\u001b[38;5;28;43;01mfor\u001b[39;49;00m\u001b[43m \u001b[49m\u001b[43mmessage\u001b[49m\u001b[43m \u001b[49m\u001b[38;5;129;43;01min\u001b[39;49;00m\u001b[43m \u001b[49m\u001b[43m_copy_messages\u001b[49m\u001b[43m(\u001b[49m\u001b[43mmessages\u001b[49m\u001b[43m)\u001b[49m\u001b[43m]\u001b[49m\u001b[43m,\u001b[49m\n",
      "\u001b[0;32m    340\u001b[0m \u001b[43m      \u001b[49m\u001b[43mtools\u001b[49m\u001b[38;5;241;43m=\u001b[39;49m\u001b[43m[\u001b[49m\u001b[43mtool\u001b[49m\u001b[43m \u001b[49m\u001b[38;5;28;43;01mfor\u001b[39;49;00m\u001b[43m \u001b[49m\u001b[43mtool\u001b[49m\u001b[43m \u001b[49m\u001b[38;5;129;43;01min\u001b[39;49;00m\u001b[43m \u001b[49m\u001b[43m_copy_tools\u001b[49m\u001b[43m(\u001b[49m\u001b[43mtools\u001b[49m\u001b[43m)\u001b[49m\u001b[43m]\u001b[49m\u001b[43m,\u001b[49m\n",
      "\u001b[0;32m    341\u001b[0m \u001b[43m      \u001b[49m\u001b[43mstream\u001b[49m\u001b[38;5;241;43m=\u001b[39;49m\u001b[43mstream\u001b[49m\u001b[43m,\u001b[49m\n",
      "\u001b[0;32m    342\u001b[0m \u001b[43m      \u001b[49m\u001b[38;5;28;43mformat\u001b[39;49m\u001b[38;5;241;43m=\u001b[39;49m\u001b[38;5;28;43mformat\u001b[39;49m\u001b[43m,\u001b[49m\n",
      "\u001b[0;32m    343\u001b[0m \u001b[43m      \u001b[49m\u001b[43moptions\u001b[49m\u001b[38;5;241;43m=\u001b[39;49m\u001b[43moptions\u001b[49m\u001b[43m,\u001b[49m\n",
      "\u001b[0;32m    344\u001b[0m \u001b[43m      \u001b[49m\u001b[43mkeep_alive\u001b[49m\u001b[38;5;241;43m=\u001b[39;49m\u001b[43mkeep_alive\u001b[49m\u001b[43m,\u001b[49m\n",
      "\u001b[0;32m    345\u001b[0m \u001b[43m    \u001b[49m\u001b[43m)\u001b[49m\u001b[38;5;241;43m.\u001b[39;49m\u001b[43mmodel_dump\u001b[49m\u001b[43m(\u001b[49m\u001b[43mexclude_none\u001b[49m\u001b[38;5;241;43m=\u001b[39;49m\u001b[38;5;28;43;01mTrue\u001b[39;49;00m\u001b[43m)\u001b[49m\u001b[43m,\u001b[49m\n",
      "\u001b[0;32m    346\u001b[0m \u001b[43m    \u001b[49m\u001b[43mstream\u001b[49m\u001b[38;5;241;43m=\u001b[39;49m\u001b[43mstream\u001b[49m\u001b[43m,\u001b[49m\n",
      "\u001b[0;32m    347\u001b[0m \u001b[43m  \u001b[49m\u001b[43m)\u001b[49m\n",
      "\n",
      "File \u001b[1;32mc:\\Users\\FX506\\Desktop\\CS\\3A\\MVA\\LLM\\mva-llm-project\\myenv\\lib\\site-packages\\ollama\\_client.py:178\u001b[0m, in \u001b[0;36mClient._request\u001b[1;34m(self, cls, stream, *args, **kwargs)\u001b[0m\n",
      "\u001b[0;32m    174\u001b[0m         \u001b[38;5;28;01myield\u001b[39;00m \u001b[38;5;28mcls\u001b[39m(\u001b[38;5;241m*\u001b[39m\u001b[38;5;241m*\u001b[39mpart)\n",
      "\u001b[0;32m    176\u001b[0m   \u001b[38;5;28;01mreturn\u001b[39;00m inner()\n",
      "\u001b[1;32m--> 178\u001b[0m \u001b[38;5;28;01mreturn\u001b[39;00m \u001b[38;5;28mcls\u001b[39m(\u001b[38;5;241m*\u001b[39m\u001b[38;5;241m*\u001b[39m\u001b[38;5;28mself\u001b[39m\u001b[38;5;241m.\u001b[39m_request_raw(\u001b[38;5;241m*\u001b[39margs, \u001b[38;5;241m*\u001b[39m\u001b[38;5;241m*\u001b[39mkwargs)\u001b[38;5;241m.\u001b[39mjson())\n",
      "\n",
      "File \u001b[1;32mc:\\Users\\FX506\\Desktop\\CS\\3A\\MVA\\LLM\\mva-llm-project\\myenv\\lib\\site-packages\\ollama\\_client.py:122\u001b[0m, in \u001b[0;36mClient._request_raw\u001b[1;34m(self, *args, **kwargs)\u001b[0m\n",
      "\u001b[0;32m    120\u001b[0m   \u001b[38;5;28;01mreturn\u001b[39;00m r\n",
      "\u001b[0;32m    121\u001b[0m \u001b[38;5;28;01mexcept\u001b[39;00m httpx\u001b[38;5;241m.\u001b[39mHTTPStatusError \u001b[38;5;28;01mas\u001b[39;00m e:\n",
      "\u001b[1;32m--> 122\u001b[0m   \u001b[38;5;28;01mraise\u001b[39;00m ResponseError(e\u001b[38;5;241m.\u001b[39mresponse\u001b[38;5;241m.\u001b[39mtext, e\u001b[38;5;241m.\u001b[39mresponse\u001b[38;5;241m.\u001b[39mstatus_code) \u001b[38;5;28;01mfrom\u001b[39;00m\u001b[38;5;250m \u001b[39m\u001b[38;5;28;01mNone\u001b[39;00m\n",
      "\u001b[0;32m    123\u001b[0m \u001b[38;5;28;01mexcept\u001b[39;00m httpx\u001b[38;5;241m.\u001b[39mConnectError:\n",
      "\u001b[0;32m    124\u001b[0m   \u001b[38;5;28;01mraise\u001b[39;00m \u001b[38;5;167;01mConnectionError\u001b[39;00m(CONNECTION_ERROR_MESSAGE) \u001b[38;5;28;01mfrom\u001b[39;00m\u001b[38;5;250m \u001b[39m\u001b[38;5;28;01mNone\u001b[39;00m\n",
      "\n",
      "\u001b[1;31mResponseError\u001b[0m: model \"llama-3.2\" not found, try pulling it first (status code: 404)"
     ]
    }
   ],
   "source": [
    "from src.inference import get_code_with_rag\n",
    "from src.config import PROMPT_SYSTEM_pandas, PROMPT_SYSTEM_EXPERT_pandas\n",
    "get_code_with_rag(model = \"mistral\", model_expert = \"deepseek-coder-v2\",\n",
    "                  w_model_expert = True,\n",
    "                  prompt_system=PROMPT_SYSTEM_pandas, \n",
    "                  prompt_system_expert=PROMPT_SYSTEM_EXPERT_pandas, \n",
    "                  lan_logic = 'pandas') "
   ]
  },
  {
   "cell_type": "code",
   "execution_count": null,
   "metadata": {},
   "outputs": [],
   "source": [
    "from src.inference import get_code_with_rag\n",
    "from src.config import PROMPT_SYSTEM_pandas, PROMPT_SYSTEM_EXPERT_pandas\n",
    "get_code_with_rag(model = \"deepseek-coder-v2\", model_expert = \"deepseek-coder-v2\",\n",
    "                  w_model_expert = True,\n",
    "                  prompt_system=PROMPT_SYSTEM_pandas, \n",
    "                  prompt_system_expert=PROMPT_SYSTEM_EXPERT_pandas, \n",
    "                  lan_logic = 'pandas') "
   ]
  },
  {
   "cell_type": "markdown",
   "metadata": {},
   "source": [
    "## Kanren"
>>>>>>> c9fdc50ea2135143d18575a7af294c88b2dafc37
   ]
  },
  {
   "cell_type": "code",
<<<<<<< HEAD
   "execution_count": 5,
=======
   "execution_count": 13,
>>>>>>> c9fdc50ea2135143d18575a7af294c88b2dafc37
   "metadata": {},
   "outputs": [
    {
     "name": "stdout",
     "output_type": "stream",
     "text": [
<<<<<<< HEAD
      "patient 11  BPD2 (Hypomanic-Depressive Disorder Type II)\n",
      "patient 12  BPD1 (Bipolar Disorder Type I)\n",
      "patient 13  BPD1 (Bipolar Disorder Type I)\n",
      "patient 14  BPD1 (Bipolar Disorder Type I)\n",
      "patient 15  BPD1 (Bipolar Disorder Type I)\n",
      "patient 16  Diagnosis: Recurrent Depressive Disorder (RDD)\n",
      "patient 17  Bipolar Disorder Type I (BPD1)\n",
      "patient 18  Patient diagnosis: Recurrent Depressive Disorder (RDD)\n",
      "patient 19  BPD2 (Hypomanic-Depressive Disorder)\n",
      "patient 20 1. BPD1 or RDD (cannot determine with the provided data)\n",
      "2. SEDD\n",
      "3. No clear diagnosis (insufficient data)\n",
      "patient 21  The patient's diagnosis is RDD (Recurrent Depressive Disorder) based on the current symptoms and history data provided.\n",
      "patient 22  BPD1 (Bipolar Disorder Type I)\n",
      "patient 23  BPD1\n",
      "patient 24 1. BPD1 - The patient exhibits symptoms of increased_activity_energy, distractibility, racing_thoughts, increased_self_esteem, and impulsive_reckless_behavior for the past 2-3 weeks. This indicates a possible manic or mixed episode, which meets the requirement for the diagnosis of Bipolar Disorder Type I (BPD1).\n",
      "\n",
      "  2. If there is no further history provided for this patient, it is not possible to definitively diagnose them with any other disorder. However, based on the observed symptoms, they do not seem to fit the criteria for SDD, RDD, or BPD2 as none of these disorders require a history of manic, mixed, or hypomanic episodes.\n",
      "\n",
      "  3. If there is no further data about this patient (Observed or History), it would be impossible to provide a diagnosis.\n",
      "patient 25  BPD2 or RDD (Diagnosis is uncertain as history of hypomanic episodes is not provided)\n",
      "patient 26  Based on the provided symptoms and history, the patient appears to have depression (either SDD or RDD). However, the presence of euphoria_irritability_expansiveness, increased_activity_energy, and increased_self_esteem for a short duration suggests a possible mixed episode. Since there is no history of manic or hypomanic episodes, BPD1 or BPD2 can be ruled out. Therefore, the diagnosis could potentially be RDD or a brief mixed episode within an existing depressive disorder (not specified in ICD-11). A thorough clinical evaluation and further investigation are necessary for accurate diagnosis.\n",
      "patient 27  BPD2 or RDD (Depending on whether there is a history of a past depressive episode)\n",
      "patient 28  Based on the provided symptoms and history, the diagnosis for this patient would be RDD (Recurrent Depressive Disorder). There is no evidence of manic, mixed or hypomanic episodes in the patient's history, which eliminates BPD1 (Bipolar Disorder Type I) and BPD2 (Bipolar Disorder Type II) diagnoses. The SEDD (Single Episode Depressive Disorder) diagnosis is also unlikely because this condition requires only a single depressive episode, whereas the patient has displayed symptoms for more than one week, suggesting recurrent episodes which aligns with the criteria for RDD.\n",
      "patient 29  Diagnosis: RDD (Recurrent Depressive Disorder)\n",
      "patient 30  BPD1 (Bipolar Disorder Type I)\n"
=======
      "Chargement de la base Chroma existante...\n",
      "Base Chroma prête à être utilisée\n"
>>>>>>> c9fdc50ea2135143d18575a7af294c88b2dafc37
     ]
    }
   ],
   "source": [
<<<<<<< HEAD
    "for i in range(11, 31):\n",
    "    print(f\"patient {i}\", get_answer(patient_id=i, model='mistral'))"
=======
    "from src.inference import get_code_with_rag\n",
    "from src.config import PROMPT_SYSTEM_kanren ,PROMPT_SYSTEM_EXPERT_kanren \n",
    "get_code_with_rag(model = \"llama3.2\", model_expert = \"llama3.2\",w_model_expert = True,prompt_system=PROMPT_SYSTEM_kanren, prompt_system_expert=PROMPT_SYSTEM_EXPERT_kanren , lan_logic = 'karen') "
>>>>>>> c9fdc50ea2135143d18575a7af294c88b2dafc37
   ]
  },
  {
   "cell_type": "code",
<<<<<<< HEAD
   "execution_count": 6,
   "metadata": {},
   "outputs": [
    {
     "name": "stdout",
     "output_type": "stream",
     "text": [
      "patient 11 <think>\n",
      "Okay, so I have this query about diagnosing patients based on their symptoms and history. The user provided a scenario with specific disorders like BPD1, BPD2, SEDD, and RDD, along with some observed symptoms and history. My task is to figure out the correct diagnosis.\n",
      "\n",
      "Let me break it down step by step. First, I need to understand each disorder's criteria as per ICD-11. \n",
      "\n",
      "Starting with BPD1: It requires a history of at least one manic or mixed episode. The user mentioned that the patient has hypomanic episodes in their history but no manic or mixed ones. So, BPD1 is out.\n",
      "\n",
      "Next, BPD2: This needs both a hypomanic and a depressive episode. The observed symptoms include increased talkativeness and euphoria, which might point towards a hypomanic episode. However, the patient's history only shows one hypomanic episode; there's no mention of a depressive episode. So, BPD2 is also unlikely.\n",
      "\n",
      "Now, SEDD: This requires at least one depressive episode without any history of manic, mixed, or hypomanic episodes. The observed symptoms are more on the hypomanic side, but the history only shows a single hypomanic episode, not depressive. So, SEDD doesn't fit either.\n",
      "\n",
      "Then there's RDD: It needs two depressive episodes separated by several months without significant mood disturbance. The observed symptoms don't indicate a depressive state; instead, they point towards a hypomanic episode. Since the history only includes a hypomanic event, RDD isn't applicable.\n",
      "\n",
      "Wait, but what if the increased talkativeness is part of a hypomanic episode? That would mean the patient's current symptoms might be indicative of an ongoing or recent hypomanic episode. However, without a depressive episode in their history, none of these bipolar disorders apply. So, maybe they don't have any of those disorders.\n",
      "\n",
      "Is there another possible diagnosis? The user didn't mention other conditions, but perhaps it's something else entirely, like adjustment disorder or something non-bipolar. Or maybe they just have a single hypomanic episode without any depressive history, which wouldn't meet the criteria for any of these diagnoses.\n",
      "\n",
      "So, putting it all together, the patient doesn't meet the criteria for BPD1, BPD2, SEDD, or RDD. Therefore, no diagnosis can be made confidently with the given information.\n",
      "</think>\n",
      "\n",
      "No clear diagnosis can be made based on the provided information.\n",
      "patient 12 <think>\n",
      "Alright, I'm trying to figure out the diagnosis for this patient based on the symptoms and history provided. Let me start by going through each piece of information carefully.\n",
      "\n",
      "The Observed section lists several symptoms: euphoria, irritability, expansiveness, increased activity and energy, increased talkativeness, racing thoughts, and decreased need for sleep. Each of these has been observed for a certain number of weeks, ranging from 1.8 to 3.2 weeks. These symptoms seem to point towards a manic or hypomanic episode.\n",
      "\n",
      "Now, looking at the History, the patient has had a hypomanic episode that happened twice. The key here is understanding what each disorder requires in terms of history and symptoms.\n",
      "\n",
      "First, let's consider BPD1. It requires a history of at least one manic or mixed episode. However, the patient doesn't have a history of a manic episode; they only have hypomanic episodes. So BPD1 isn't likely.\n",
      "\n",
      "Next, BPD2. This disorder requires a history of at least one hypomanic and one depressive episode. The observed symptoms are consistent with hypomania, but there's no mention of any depressive episodes either currently or in the past. Without a history of depression, we can rule out BPD2.\n",
      "\n",
      "Now, SEDD is about having a single depressive episode. There’s no evidence here that the patient has had a depressive episode, whether current or past. The history only mentions hypomanic episodes, so SEDD doesn't fit either.\n",
      "\n",
      "Then there's RDD, which requires at least two depressive episodes. Again, we don’t have any info on depressions; all observed symptoms are manic-like.\n",
      "\n",
      "Wait, the patient does have a history of hypomanic episodes twice, but none of the others. The current symptoms are classic for hypomania: euphoria, irritability, increased activity and energy, etc. So the patient is currently in a hypomanic episode.\n",
      "\n",
      "Now, considering the history: they've had two hypomanic episodes. But according to SEDD, we need a depressive episode, which isn't present here. However, since the patient doesn’t have any of the required conditions for BPD1 or BPD2 (they don't have a manic or mixed episode), maybe the current symptoms are indicative of a different condition.\n",
      "\n",
      "Wait, looking back at the user's instructions, they mentioned that disorders like SEDD require a single depressive episode. Since there’s no history of depression, perhaps SEDD isn't applicable here either. But wait, the patient is currently hypomanic, which could mean they might be in a hypomanic phase without any prior manic or mixed episodes.\n",
      "\n",
      "Hmm, but according to the requirements for BPD1 and BPD2, they need specific histories. Since the patient hasn’t had a manic episode (only hypomanic), BPD1 is out. They haven't had both hypomanic and depressive episodes either, so BPD2 is also out.\n",
      "\n",
      "The only remaining options are SEDD or RDD, but both require depressive episodes, which aren't present. Wait, perhaps the patient is experiencing a current hypomanic episode without any history of mania or mixed episodes. But according to the diagnostic requirements provided, SEDD requires a history of a single depressive episode. Without that, it's not applicable.\n",
      "\n",
      "Wait, maybe I'm misunderstanding something. Let me re-examine the criteria:\n",
      "\n",
      "- BPD1: At least one manic/mixed, no need for depressions unless it's typical.\n",
      "- BPD2: At least one hypomanic and one depression.\n",
      "- SEDD: Presence/history of a single depressive; no mention of mania.\n",
      "- RDD: Two depressive episodes.\n",
      "\n",
      "In this case, the patient has current symptoms of hypomania and a history of two hypomanic episodes. No depressions. So none of these disorders fit because they all require some form of depression or mania in their criteria.\n",
      "\n",
      "Wait, perhaps I'm missing something here. The observed symptoms are all hypomanic, which is present now. But the patient has had two hypomanic episodes before, but no depressions.\n",
      "\n",
      "So according to SEDD, it's a single depressive episode. Without that, maybe not. RDD requires two depressive episodes, also not applicable.\n",
      "\n",
      "Wait, perhaps the patient doesn't meet any of these disorders because they have only hypomania without any depression or mania. But wait, in the observed data, the symptoms are all indicative of hypomania, which is a less severe form than mania.\n",
      "\n",
      "So maybe the correct diagnosis is Hypomanic Disorder, but that's not listed here. Alternatively, perhaps the patient doesn't meet any of these criteria, so no diagnosis is possible.\n",
      "\n",
      "Wait, but looking back at SEDD: The presence or history of a single depressive episode is required. Since there’s no such thing in the patient’s data, maybe it's not applicable.\n",
      "\n",
      "So considering all this, the patient currently has hypomanic symptoms and a history of two hypomanic episodes. None of the considered disorders fit because they all require some form of depression or more severe mania.\n",
      "\n",
      "Therefore, perhaps there is no clear diagnosis for this patient based on the given data.\n",
      "</think>\n",
      "\n",
      "The patient exhibits current hypomanic symptoms with a history of two hypomanic episodes but lacks any evidence of depressive episodes or manic/mixed episodes. None of the considered disorders (BPD1, BPD2, SEDD, RDD) are met as they all require specific elements not present in this case.\n",
      "\n",
      "Diagnosis: No clear diagnosis based on provided data.\n",
      "patient 13 <think>\n",
      "Alright, let me try to figure this out. So, the user provided a query where they're asking about diagnosing a patient based on their symptoms and history. They mentioned specific disorders like BPD1, BPD2, SEDD, and RDD.\n",
      "\n",
      "First, I need to understand what each disorder requires. BPD1 needs at least one manic or mixed episode in history. BPD2 needs both hypomanic and depressive episodes. SEDD is when there's a single depressive episode without any signs of bipolar disorder. RDD requires two depressive episodes with no history of mania, hypomania, etc.\n",
      "\n",
      "Looking at the patient data: The observed symptoms include euphoria, irritability, expansiveness, distractibility, impulsive behavior, and increased sexual sociability. These are all typically associated with a manic or mixed episode. The history shows \"manic\" happened once, which fits BPD1's requirement of a manic episode.\n",
      "\n",
      "I should check if there's any other disorder that fits better. SEDD requires just a depressive episode, but the observed symptoms don't indicate depression; they point towards mania. RDD needs two depressives, which isn't the case here either. No other disorders apply because there's no mention of hypomanic episodes.\n",
      "\n",
      "So, the diagnosis should be BPD1 since there's at least one manic episode in history and no indication of the other disorders.\n",
      "</think>\n",
      "\n",
      "**BPD1**\n",
      "patient 14 <think>\n",
      "Okay, so I'm trying to figure out the diagnosis for this patient based on their symptoms and history. Let me start by going through the information step by step.\n",
      "\n",
      "First, looking at the Observed symptoms: They have depressed mood for 3.5 weeks, diminished interest or pleasure for 3.1 weeks, euphoria with irritability and expansiveness for 2.6 weeks, and increased activity or energy for 2.4 weeks. That seems like a mix of manic-like symptoms (euphoria, increased activity) along with depressive symptoms (depressed mood, reduced interest).\n",
      "\n",
      "Now, the History shows that a mixed episode happened twice. From what I remember, Bipolar Disorder Type I (BPD1) requires at least one manic or mixed episode in the history, which this patient has. The presence of both manic and depressive symptoms might also point towards BPD1 because it's characterized by recurrent episodes of both types.\n",
      "\n",
      "Wait, but I should double-check the criteria. For BPD1, a single manic or mixed episode is enough for diagnosis, even if there are depressive episodes as well. The patient definitely meets that because they have a history of a mixed episode and currently show signs of both mania and depression. There's no mention of hypomanic episodes required for BPD2, which would need both hypomanic and depressive episodes without any manic or mixed ones.\n",
      "\n",
      "So the diagnosis should be Bipolar Disorder Type I, given that they have a history of a mixed episode and are currently showing manic symptoms alongside depression.\n",
      "</think>\n",
      "\n",
      "The patient meets the criteria for **Bipolar Disorder Type 1 (BPD1)** as they have a documented history of a mixed episode and are currently presenting with both manic (euphoria, irritability, increased activity) and depressive (depressed mood, diminished interest) symptoms. \n",
      "\n",
      "**Diagnosis:** Bipolar Disorder Type 1\n",
      "patient 15 <think>\n",
      "Okay, so I'm trying to figure out the diagnosis for this patient based on their symptoms and history. Let me start by breaking down what's given.\n",
      "\n",
      "First, let's look at the Observed symptoms. The patient has been experiencing several things: euphoria, irritability, expansiveness, increased activity and energy, increased talkativeness, racing thoughts, and decreased need for sleep. These all sound like signs of a manic episode because euphoria, irritability, and expansive or grandiose behavior are classic manic symptoms.\n",
      "\n",
      "Now, the History shows that the depressive episode happened 2.0 times. So the patient has had two depressive episodes in their history. Since the user is asking about the presence of bipolar disorders, I need to check if these criteria are met.\n",
      "\n",
      "Looking at BPD1: It requires a history of at least one manic or mixed episode. The Observed symptoms suggest a current manic episode, which would count as that requirement. However, BPD1 also mentions that it's characterized by recurrent episodes, but the key point is the presence of a manic or mixed episode in the history.\n",
      "\n",
      "For BPD2: It needs a history of at least one hypomanic episode and one depressive episode. The observed symptoms don't include any hypomanic indicators like increased self-esteem without grandiosity. Instead, they are more indicative of mania, so BPD2 doesn't fit here.\n",
      "\n",
      "SEDd requires just a single depressive episode and no history of manic, mixed, or hypomanic episodes. But since the patient is currently showing manic symptoms, SEDD isn't applicable because it's supposed to exclude those.\n",
      "\n",
      "RDD also requires two depressive episodes without any manic, mixed, or hypomanic history. Again, the presence of current manic symptoms disqualifies them from this category.\n",
      "\n",
      "So putting it all together: The patient has a history of depressive episodes (two times) and currently shows signs of a manic episode. This meets the criteria for BPD1 because they have at least one manic/mixed episode in their history and possibly a current one, but since it's observed, maybe it's still qualifying as history? Wait, no—the observed is current, so actually, the patient may meet the criteria for both BPD1 (since they've had a manic episode) and perhaps another diagnosis. But the main requirement for BPD1 is that there must be at least one manic/mixed episode in history. Since the patient has had two depressive episodes but no mention of any prior manic episodes, maybe it's only if the observed symptoms count as part of their history.\n",
      "\n",
      "Wait, I'm a bit confused here. The observed symptoms are current, so technically, they might not yet be considered history. Unless the \"history\" refers to the entire patient data provided, including both observed and historical data. So if the patient has a current manic episode and a history of two depressive episodes, that would fit BPD1 because they have at least one manic/mixed episode (the current state) in addition to their history.\n",
      "\n",
      "But I'm not entirely sure how to count the observed symptoms as history. Maybe the correct approach is to consider the observed as current and the history as past. So if the patient hasn't had a prior manic episode but has a current one, would that suffice for BPD1? Or does it require a history of at least one, meaning in the past?\n",
      "\n",
      "The user's description says History: happened 2.0 times: depressive. So there's no mention of any prior manic or mixed episodes.\n",
      "\n",
      "Therefore, based on the given data, the patient has a current manic episode (observed) and two prior depressive episodes (history). BPD1 requires at least one manic/mixed in history, but if the observed is current, does that count as part of their history? Or do they need a past occurrence?\n",
      "\n",
      "Hmm. Maybe since it's observed, it's not considered history yet. So perhaps without a prior manic episode, BPD1 isn't met. But then what diagnosis applies?\n",
      "\n",
      "Wait, SEDD requires only a single depressive episode and no manic/mixed. The patient has two depressive episodes but current manic, so SEDD is out.\n",
      "\n",
      "Maybe the best fit here is that the patient meets BPD1 criteria because they have at least one manic/mixed in their history (if the observed counts as part of the history). But I'm not entirely sure if the observed should be considered as history or not. If the observed is current, then perhaps the patient doesn't yet qualify for BPD1 unless there's a past episode.\n",
      "\n",
      "This is tricky. Maybe without a prior manic episode, they can't meet BPD1, so perhaps no diagnosis? Or maybe SEDD because of the two depressive episodes, but that doesn't fit as they have manic symptoms.\n",
      "\n",
      "Wait, the user's initial question says to output only the diagnosis for the following patients, and if there's no clear diagnosis, indicate that. So in this case, with a current manic episode and two depressive histories, the correct diagnosis is BPD1.\n",
      "</think>\n",
      "\n",
      "BPD1\n",
      "patient 16 <think>\n",
      "Okay, so I need to figure out the diagnosis for this patient based on their symptoms and history. Let's start by going through each part step by step.\n",
      "\n",
      "First, let's look at the Observed symptoms. The patient has been experiencing several things:\n",
      "\n",
      "- Depressed mood for about 2 weeks.\n",
      "- Reduced concentration for a bit over 3 weeks.\n",
      "- Low self-worth for roughly 2.7 weeks.\n",
      "- Increased activity and energy for about 1.2 weeks.\n",
      "\n",
      "Now, let's check the History. They've had one instance of a depressive episode and one instance of a hypomanic episode. So they have both a history of depression and hypomania.\n",
      "\n",
      "Looking at the diagnostic criteria:\n",
      "\n",
      "- BPD1 requires a history of at least one manic or mixed episode. The patient has a hypomanic episode, which is a type of mood episode, but it's not a full-blown manic. I think the key here is whether hypomanic qualifies as a sufficient condition for BPD1. From what I remember, sometimes hypomania can be part of a broader diagnosis, especially if there are other symptoms or a family history. But according to the criteria provided, it mentions that for BPD1, a single manic or mixed episode is sufficient but notes that the typical course includes recurrent episodes. However, since the patient has only one hypomanic episode and no manic or mixed episode beyond that, maybe they don't meet the criteria for BPD1 because they need a history of at least one manic or mixed.\n",
      "\n",
      "- BPD2 requires a history of at least one hypomanic and one depressive episode. The patient has both: one hypomanic and one depressive. So BPD2 seems to fit here.\n",
      "\n",
      "- SEDD is about having a single depressive episode, but without any history of hypomanic or manic episodes. Since the patient also had a hypomanic episode, they don't qualify for SEDD because that would indicate possible bipolar disorder, which they have a history of.\n",
      "\n",
      "- RDD requires at least two depressive episodes separated by months without significant mood disturbance in between. The patient only has one depressive episode mentioned, so that doesn't apply.\n",
      "\n",
      "Putting this together, the patient meets the criteria for BPD2: they've had both a hypomanic and a depressive episode. So their diagnosis should be Bipolar Disorder II.\n",
      "</think>\n",
      "\n",
      "The patient's history includes one depressive and one hypomanic episode, fulfilling the criteria for Bipolar Disorder II.\n",
      "\n",
      "Diagnosis: Bipolar Disorder II (BPD2)\n",
      "patient 17 <think>\n",
      "Okay, so I'm trying to figure out the diagnosis for this patient based on their observed symptoms and history. Let me start by breaking down what I have.\n",
      "\n",
      "First, looking at the Observed symptoms: euphoria, irritability, expansiveness, increased activity and energy, racing thoughts, decreased need for sleep, and impulsive reckless behavior. All of these have been observed for about 2-3 weeks. From my knowledge, these are common symptoms of a manic episode. Manic episodes are characterized by elevated mood, which includes things like euphoria and irritability. The expansiveness and increased energy make sense too.\n",
      "\n",
      "Now, the History shows that the patient has had a manic episode once before. According to BPD1, the diagnosis requires at least one manic or mixed episode in their history. Since they've had a manic episode, it fits the criteria for BPD1. There's no mention of hypomanic episodes or depressive ones in the history, but since BPD1 only needs a manic or mixed episode, that's sufficient.\n",
      "\n",
      "I should also consider if there might be another disorder like SEDD or RDD, but SEDD requires just a depressive episode without any manic symptoms, and RDD needs two depressive episodes. The patient doesn't have any history of depressive episodes mentioned, so those can be ruled out.\n",
      "\n",
      "Since the patient has a history of a manic episode and currently presents with symptoms that align with a manic state, BPD1 seems to be the correct diagnosis.\n",
      "</think>\n",
      "\n",
      "The patient meets the criteria for Bipolar Disorder Type I (BPD1) due to having a history of at least one manic episode and currently presenting symptoms consistent with a manic episode. \n",
      "\n",
      "**Diagnosis:** Bipolar Disorder Type I (BPD1).\n",
      "patient 18 <think>\n",
      "Okay, so I'm trying to figure out the diagnosis for this patient based on their symptoms and history. The user provided some Observed and History data, along with specific disorders to consider: BPD1, BPD2, SEDD, and RDD.\n",
      "\n",
      "First, let me parse the data. The Observed symptoms are:\n",
      "\n",
      "- psychomotor_disturbances for 3.0 weeks\n",
      "- hopelessness for 2.9 weeks\n",
      "- recurrent_thoughts_death_suicide for 4.0 weeks\n",
      "\n",
      "The History is that a depressive episode happened 2.0 times.\n",
      "\n",
      "Now, I need to map these to the disorders. Let's go through each one step by step.\n",
      "\n",
      "Starting with BPD1: It requires a history of at least one manic or mixed episode. The patient only has a history of a depressive episode, so BPD1 is out.\n",
      "\n",
      "Next, BPD2: This needs a history of at least one hypomanic episode and at least one depressive episode. Again, the patient's history only mentions a depressive episode, no hypomanic. So BPD2 isn't applicable either.\n",
      "\n",
      "Looking at SEDD (Single Episode Depressive Disorder): The requirement is a presence or history of a single depressive episode. The patient has had two depressive episodes (as per History), which actually might not fit since it's more than one. Wait, no—SEDD requires a single episode. If the patient has had multiple, maybe SEDD isn't the right diagnosis anymore.\n",
      "\n",
      "Then there's RDD (Recurrent Depressive Disorder): This needs at least two depressive episodes separated by several months without significant mood disturbance in between. The History says \"happened 2.0 times,\" which could imply two separate episodes. But the user didn't specify if these episodes are separated by periods without symptoms. Without that info, I'm not sure if it's recurrent. Also, RDD requires no history of manic, mixed, or hypomanic episodes, which seems to be the case here.\n",
      "\n",
      "Wait, but SEDD is for a single episode, and the patient has two. So maybe RDD is more appropriate because they've had multiple depressive episodes. However, I need to check if the episodes are separated by several months without significant disturbance. The History only mentions two times, not the timing between them. Without that info, it's unclear.\n",
      "\n",
      "So, considering all this, perhaps SEDD isn't accurate since there have been two episodes. But RDD also requires at least two episodes. However, the key difference is whether they're separated by several months without significant disturbance. Since we don't know about the separation period, maybe the safest bet is SEDD if it's only one episode, but since History says two times, that might lean towards RDD.\n",
      "\n",
      "Alternatively, maybe the patient doesn't meet the criteria for any of these disorders because of insufficient information. But I think with a history of two depressive episodes and no manic or hypomanic, RDD seems possible.\n",
      "</think>\n",
      "\n",
      "The diagnosis for this patient is **Recurrent Depressive Disorder (RDD)** based on the presence of at least two depressive episodes without evidence of manic, mixed, or hypomanic episodes.\n",
      "\n",
      "**Diagnosis:** RDD\n",
      "patient 19 <think>\n",
      "Alright, so I'm trying to figure out the diagnosis for this patient based on their symptoms and history. Let's start by breaking down what we have.\n",
      "\n",
      "The Observed symptoms are:\n",
      "- diminished_interest_pleasure for 3.4 weeks,\n",
      "- increased_self_esteem for 2.2 weeks,\n",
      "- decreased_need_for_sleep for 2.4 weeks.\n",
      "\n",
      "And the History shows that hypomanic and depressive episodes each happened once. \n",
      "\n",
      "First, I need to recall what each disorder requires in terms of symptoms and history.\n",
      "\n",
      "Starting with BPD1: They require a history of at least one manic or mixed episode. The patient has a history of hypomanic and depressive episodes, but no manic or mixed. So BPD1 is out.\n",
      "\n",
      "BPD2: This needs a history of at least one hypomanic and one depressive episode. The patient has both in their history, so BPD2 is possible. But we also look at the observed symptoms. Hypomania might include increased self-esteem and decreased need for sleep, which the patient has. Diminished interest and pleasure are more depressive. So current symptoms support a hypomanic episode if it's part of BPD2.\n",
      "\n",
      "SEDD: Just needs one depressive episode in history or present. The patient meets this because they have both a depressive history and current depressive symptoms (diminished interest). But since they also have hypomanic features, SEDD isn't the primary diagnosis.\n",
      "\n",
      "RDD: Requires at least two depressive episodes separated by several months without significant disturbance. The patient only has one depressive episode in their history and no indication of another recent one. So RDD doesn't fit.\n",
      "\n",
      "Putting it all together, the patient meets BPD2 because they have both required episodes in their history and are currently showing hypomanic symptoms. There's no indication of a manic or mixed episode, which would rule out BPD1. SEDD is considered but not primary, and RDD isn't applicable.\n",
      "\n",
      "I think that makes sense, so the diagnosis should be BPD2.\n",
      "</think>\n",
      "\n",
      "The patient meets the criteria for **BPD2** as they have a history of both hypomanic and depressive episodes and are currently exhibiting symptoms consistent with a hypomanic episode. \n",
      "\n",
      "**Diagnosis:** Bipolar Disorder Type II (BPD2).\n",
      "patient 20 <think>\n",
      "Okay, so I have to figure out the diagnosis for this patient based on their symptoms and history. Let me start by breaking down what I know.\n",
      "\n",
      "First, looking at the Observed symptoms: delusions, passivity experiences, and disorganized behavior. The durations are around 3-4 weeks each. Then, in History, they mention it happened once as a depressive episode. So, the patient has had a single depressive episode in their history.\n",
      "\n",
      "Now, considering the disorders:\n",
      "\n",
      "1. **BPD1**: This requires a history of at least one manic or mixed episode. The patient's history only includes a depressive episode, so BPD1 is out.\n",
      "\n",
      "2. **BPD2**: This needs both a hypomanic and a depressive episode. Again, only a depressive episode is present here, so BPD2 isn't applicable.\n",
      "\n",
      "3. **SEDD**: It requires the presence or history of a single depressive episode. The patient has exactly that, so they meet the criteria for SSD.\n",
      "\n",
      "4. **RDD**: This needs at least two depressive episodes separated by several months without significant disturbance in between. Here, there's only one episode, so RDD isn't applicable.\n",
      "\n",
      "Putting it all together, the only diagnosis that fits is SSD based on a single depressive episode.\n",
      "</think>\n",
      "\n",
      "The patient meets the criteria for **SEDD** as they have a history of at least one depressive episode. No evidence of manic, mixed, or hypomanic episodes suggests no bipolar disorder.\n",
      "\n",
      "Diagnosis: SSD\n",
      "patient 21 <think>\n",
      "Okay, so I'm trying to figure out the diagnosis for this patient based on their symptoms and history. Let me break it down step by step.\n",
      "\n",
      "First, looking at the Observed symptoms: reduced_energy has been there for about 2.5 weeks, disrupted_excessive_sleep for 3 weeks, change_in_appetite_weight for 2.8 weeks, and psychomotor_disturbances for 2.9 weeks. So, all these symptoms have been present for a couple of weeks now. That suggests the patient is experiencing some significant mood-related issues.\n",
      "\n",
      "Now, checking the History: they've had one manic episode and one depressive episode. That's important because different disorders have different requirements for diagnosis based on their history.\n",
      "\n",
      "Let me go through each disorder one by one to see if they fit.\n",
      "\n",
      "Starting with BPD1: This requires a history of at least one manic or mixed episode. The patient has a manic episode in their history, so that fits. However, BPD1 is typically characterized by recurrent episodes, but the patient only has one known manic episode and one depressive. I'm not sure if just having one is enough, but according to the description, it's sufficient as long as there's at least one.\n",
      "\n",
      "Next, BPD2: This needs a history of at least one hypomanic episode and one depressive episode. The patient has a depressive episode but no mention of a hypomanic one. So BPD2 doesn't fit here.\n",
      "\n",
      "Then, SEDD: This requires a history of a single depressive episode. The patient does have that, so this is possible. But we also need to rule out other disorders first.\n",
      "\n",
      "Lastly, RDD: This needs at least two depressive episodes separated by several months without significant mood disturbance in between. The patient only has one depressive episode noted, so this doesn't apply.\n",
      "\n",
      "So, considering all that, the patient meets the criteria for BPD1 because they have a history of at least one manic episode and one depressive episode. Even though there's only one manic episode, it's still enough to make the diagnosis as per the requirements.\n",
      "</think>\n",
      "\n",
      "The patient meets the diagnostic criteria for **BPD1** (Bipolar Disorder I). \n",
      "\n",
      "**Diagnosis:** Bipolar Disorder I\n",
      "patient 22 <think>\n",
      "Alright, so I'm trying to figure out the diagnosis for this patient based on their symptoms and history. Let me start by going through each part of the query step by step.\n",
      "\n",
      "First, looking at the observed symptoms: they've been experiencing a depressed mood for about 3.6 weeks, hopelessness for 2.8 weeks, increased activity and energy levels for 3.2 weeks, and impulsive or reckless behavior for 3.1 weeks. On the history side, they have a mixed episode that happened once.\n",
      "\n",
      "Now, I need to match these symptoms against the diagnostic criteria provided for BPD1, BPD2, SEDD, and RDD. \n",
      "\n",
      "Starting with BPD1: They require a history of at least one manic or mixed episode. The patient has a history of a mixed episode, which meets this criterion. However, they also need to have either a current or past manic episode. From the observed symptoms, there's increased activity and energy, which could be indicative of a hypomanic or manic episode. But wait, BPD1 specifically requires a manic or mixed episode, not necessarily hypomanic. Hypomania is a less severe form. So maybe this doesn't fully meet BPD1 because it might just be hypomania.\n",
      "\n",
      "Next, looking at BPD2: This requires a history of at least one hypomanic and one depressive episode. The patient has a mixed episode in their history, which could encompass both hypomanic and manic symptoms. However, they don't have a history of a separate hypomanic episode; the increased activity might be considered hypomanic, but is that enough? Or does it need to be specifically a hypomanic episode in the history? The patient's current symptoms include increased activity and energy, which could be part of a hypomanic or manic episode. But since they have a mixed episode in their history, maybe BPD2 isn't the correct fit either.\n",
      "\n",
      "Moving on to SEDD: This only requires a history of one depressive episode and no history of manic, mixed, or hypomanic episodes. The patient has a history of a mixed episode, which would disqualify them from SEDD because they have a mood disturbance in another category (mixed). So SEDD is out.\n",
      "\n",
      "Lastly, RDD: This requires at least two depressive episodes separated by several months without significant mood disturbance. The patient only has a single depressive episode mentioned here, so RDD doesn't apply either.\n",
      "\n",
      "Wait, but the patient's current symptoms include increased activity and energy, which could be part of a hypomanic or manic episode. Since they have a mixed episode in their history, that suggests some manic components. So combining that with the current symptoms, maybe they meet BPD1 because they've had a mixed episode (which includes manic features) and now have current symptoms that resemble hypomania.\n",
      "\n",
      "But earlier I thought about whether increased activity is considered enough for a manic episode or if it needs to be more characteristic of mania. However, in ICD-11, a mixed episode can include both depressive and hypomanic symptoms. The patient's history has a mixed episode, which would imply both low mood (depressive) and high energy (hypomanic). Now, their current symptoms are showing increased activity and energy, along with depressed mood and hopelessness.\n",
      "\n",
      "So for BPD1, they need at least one manic or mixed episode. They have the mixed episode in history, so that's covered. But do they also need a manic episode? Or is the mixed episode sufficient? The criteria state that a single manic or mixed episode is sufficient for a diagnosis of BPD1. So even if their current symptoms are more hypomanic, as long as there's a history of a mixed episode, which includes both low and high mood aspects, they can still be diagnosed with BPD1.\n",
      "\n",
      "Therefore, putting it all together: the patient has a history of a mixed episode and is currently presenting with symptoms that could be considered hypomanic or part of a manic episode. This aligns with BPD1 criteria.\n",
      "</think>\n",
      "\n",
      "Based on the provided information, the patient meets the diagnostic criteria for **BPD1**:\n",
      "\n",
      "- **BPD1**: A history of at least one manic or mixed episode is required. The patient has a history of a mixed episode, which satisfies this criterion. Additionally, while the observed symptoms may indicate hypomanic features (e.g., increased activity and energy), the presence of a mixed episode in the history aligns with the essential features of BPD1.\n",
      "\n",
      "**Diagnosis**: Bipolar Disorder 1 (BPD1)\n",
      "patient 23 <think>\n",
      "Okay, so I need to figure out the diagnosis for this patient based on their observed symptoms and history. Let me start by looking at what's given.\n",
      "\n",
      "The Observed symptoms include:\n",
      "- euphoria_irritability_expansiveness for 0.5 weeks\n",
      "- increased_activity_energy for 0.5 weeks\n",
      "- increased_self_esteem for 0.5 weeks\n",
      "- impulsive_reckless_behavior for 0.5 weeks\n",
      "- distractibility for 0.5 weeks\n",
      "\n",
      "And the History shows that a depressive episode happened once.\n",
      "\n",
      "Now, I remember from the guidelines that different disorders require specific histories and symptoms. Let me go through each possible diagnosis step by step.\n",
      "\n",
      "First, BPD1 requires a history of at least one manic or mixed episode. The patient's observed symptoms seem to align with a manic or hypomanic episode—euphoria, increased activity, self-esteem, impulsive behavior, distractibility. However, the patient only has a history of a depressive episode, not a manic or mixed one. So BPD1 might not fit because they need at least one manic/mixed in their history.\n",
      "\n",
      "Next, BPD2 requires a history of at least one hypomanic and one depressive episode. The patient has a history of a depressive episode but no mention of a hypomanic episode. Without the hypomanic history, BPD2 isn't applicable here.\n",
      "\n",
      "Then, SEDD needs a single depressive episode without any history of manic, mixed, or hypomanic episodes. The patient does have a depressive episode and doesn't have any manic/mixed/hypomanic in their observed symptoms, so this could be possible.\n",
      "\n",
      "Lastly, RDD requires at least two depressive episodes, possibly current. But the patient only has one depressive episode noted, so that's not enough for RDD.\n",
      "\n",
      "Wait, but the Observed symptoms include some manic-like traits. Does having those symptoms while only having a single depressive episode in history affect SEDD? The guidelines say SEDD requires no history of manic, mixed, or hypomanic episodes. But here, there are observed symptoms that might point towards a manic episode. However, the patient doesn't have a history of such episodes. Since SEDD is based on history, not current observations, I think it's still applicable. The current symptoms could be indicative of something else, but without a history of manic, it's more aligned with SEDD.\n",
      "\n",
      "I should also consider if the observed symptoms might indicate a current manic episode, which would impact BPD1 or BPD2. But since the patient only has a depressive history, it doesn't meet those criteria. So the most accurate diagnosis is likely SEDD.\n",
      "</think>\n",
      "\n",
      "The patient meets the diagnostic criteria for **SEDD** as they have a single depressive episode and no history of manic, mixed, or hypomanic episodes. \n",
      "\n",
      "**Diagnosis: SEDD (Single Episode Depressive Disorder)**\n",
      "patient 24 <think>\n",
      "Alright, let's tackle this diagnosis step by step. The user provided a case with specific symptoms and no history, so I need to figure out the possible disorder based on the given criteria.\n",
      "\n",
      "First, looking at the Observed symptoms: increased_activity_energy (2.6 weeks), distractibility (2.3 weeks), racing_thoughts (2.7 weeks), increased_self_esteem (2.9 weeks), and impulsive_reckless_behavior (2.6 weeks). These symptoms are typically associated with mania, especially in bipolar disorders.\n",
      "\n",
      "Now, checking the History: There's nothing mentioned here, so we don't have any prior episodes to consider. The key point for BPD1 is a history of at least one manic or mixed episode. Since there's no history of such episodes, even if the current symptoms suggest mania, without a past episode, it can't be confirmed.\n",
      "\n",
      "Looking at other options like SEDD, RDD, and BPD2: SEDD requires a single depressive episode but here we have possible manic symptoms. Similarly, RDD needs two depressive episodes, which isn't the case here. BPD2 is out because it's characterized by hypomanic and depressive episodes without mania.\n",
      "\n",
      "So, without any history of previous episodes, especially mania or hypomania, the patient doesn't meet the criteria for any specific disorder mentioned. Therefore, no diagnosis can be made confidently.\n",
      "</think>\n",
      "\n",
      "No clear diagnosis can be determined based on the provided data.\n",
      "patient 25 <think>\n",
      "Okay, so I'm trying to figure out the diagnosis for this patient based on their symptoms and history. Let me go through this step by step.\n",
      "\n",
      "First, let's look at what's provided. The patient has some observed symptoms: low self-worth, recurrent thoughts of death or suicide, and changes in appetite or weight. Each of these has been observed for a certain number of weeks. Then, the history shows that a depressive episode happened twice.\n",
      "\n",
      "Now, I need to match this to one of the disorders: BPD1, BPD2, SEDD, or RDD. Let me recall what each requires.\n",
      "\n",
      "BPD1 needs a history of at least one manic or mixed episode. But this patient's history only mentions a depressive episode happening twice. There's no mention of any manic or hypomanic episodes, so BPD1 is probably out.\n",
      "\n",
      "BPD2 requires a history of both a hypomanic and a depressive episode. Again, the history here only shows depressive episodes, so BPD2 doesn't fit either.\n",
      "\n",
      "SEDD is for patients with at least one depressive episode without any history of manic, mixed, or hypomanic episodes. That seems to match because the patient has had two depressive episodes but no signs of other types of mood episodes. So SEDD might be applicable here.\n",
      "\n",
      "RDD, on the other hand, requires at least two depressive episodes separated by several months without significant mood disturbance in between. The patient's history shows two depressive episodes, but there's nothing mentioned about a period between them or any intervening stable periods. Without that info, I can't confirm RDD.\n",
      "\n",
      "Putting it all together, since the patient has a history of two depressive episodes and no other mood episode types, SEDD is the most appropriate diagnosis.\n",
      "</think>\n",
      "\n",
      "The patient meets the criteria for SEDD given their history of two depressive episodes without any manic, mixed, or hypomanic episodes. \n",
      "\n",
      "**Diagnosis: SEDD (Single Episode Depressive Disorder)**\n",
      "patient 26 <think>\n",
      "Okay, so I need to figure out the diagnosis for this patient based on their symptoms and history. Let me break it down step by step.\n",
      "\n",
      "First, let's look at what's been observed. The patient has a depressed mood, diminished interest in pleasure, low self-worth, psychomotor disturbances, and some hypomanic symptoms like euphoria, irritability, expansiveness, increased activity and energy, increased self-esteem, and impulsive behavior. These hypomanic signs have only been present for half a week.\n",
      "\n",
      "Now, the history shows that the patient has experienced one depressive episode and one hypomanic episode. So, they've had both a depressive and a hypomanic episode in their history.\n",
      "\n",
      "Looking at the criteria:\n",
      "\n",
      "- BPD1 requires a history of at least one manic or mixed episode. The patient does have a hypomanic episode, which is technically not considered a 'manic' in some classifications, but under ICD-11, it's part of the mood episodes. So maybe they meet this.\n",
      "\n",
      "- BPD2 needs both a depressive and hypomanic history. The patient has both, so that fits.\n",
      "\n",
      "- SEDD requires only a depressive episode without any manic or hypomanic history. But since the patient also had a hypomanic episode, it doesn't fit here.\n",
      "\n",
      "- RDD is for two depressive episodes with no manic/hypomanic. Not applicable here.\n",
      "\n",
      "So considering BPD1 and BPD2. Wait, but BPD1 needs at least one manic/mixed, which they have (hypomanic). BPD2 needs both depressives and hypomanics, which they also have.\n",
      "\n",
      "But wait, the patient's current state is more depressed with some hypomanic features. Typically, a diagnosis of BPD1 would be made if there's a history of mania, but since this is a hypomanic episode, does that count? I think under ICD-11, hypomania can be part of the mood episodes for both BPD types.\n",
      "\n",
      "Wait no, actually, BPD2 specifically excludes any manic or mixed episodes. So the patient has had a hypomanic and a depressive, but no manic or mixed, so that would lean towards BPD2.\n",
      "\n",
      "But in their history, they have both a depressive and a hypomanic episode. So yes, BPD2 is appropriate because it requires at least one depressive and one hypomanic.\n",
      "\n",
      "Alternatively, if we consider that the patient's current state includes some hypomanic symptoms but without any manic episodes, then BPD2 would be correct.\n",
      "\n",
      "Wait, I'm getting confused. Let me double-check the criteria:\n",
      "\n",
      "BPD1: Must have a history of at least one manic or mixed episode.\n",
      "BPD2: Must have both a depressive and a hypomanic episode.\n",
      "\n",
      "So since they have both, but no manic or mixed (only hypomanic), then BPD2 is correct because it requires a depressive and hypomanic. So the diagnosis would be Bipolar Disorder 2.\n",
      "\n",
      "But wait, some sources say that under ICD-11, hypomania doesn't count towards BPD1 but does for BPD2. Since they have a hypomanic episode in their history, that fits BPD2's requirements.\n",
      "\n",
      "So yes, the patient meets BPD2 criteria.\n",
      "</think>\n",
      "\n",
      "The diagnosis for the patient is **Bipolar Disorder 2 (BPD2)**.\n",
      "patient 27 <think>\n",
      "Alright, I need to figure out the correct diagnosis based on the symptoms and history provided. Let me start by going through each disorder and seeing if it fits the patient's data.\n",
      "\n",
      "First, let's look at BPD1: It requires a history of at least one manic or mixed episode. The patient has a history of depression, but there's no mention of any manic episodes. So, BPD1 doesn't seem to apply here.\n",
      "\n",
      "Next, BPD2: This needs both a hypomanic and depressive history. Again, the patient only has a depressive history; no hypomanic is present. So BPD2 isn't applicable either.\n",
      "\n",
      "Now, SEDD: The presence of a single depressive episode is required. The patient does have a history of depression, which fits this criterion. There's no indication of any manic, mixed, or hypomanic episodes, so we don't have to consider bipolar disorders beyond SEDD.\n",
      "\n",
      "Lastly, RDD: It requires at least two depressive episodes separated by several months without significant mood disturbance. The patient only has one episode noted in their history, so this doesn't meet the criteria for RDD.\n",
      "\n",
      "Putting it all together, the patient meets the requirements for SEDD but not any of the other disorders mentioned. So, the diagnosis should be SEDD.\n",
      "</think>\n",
      "\n",
      "The patient meets the diagnostic criteria for **SEDD** (Single Episode Depressive Disorder) based on their history of a single depressive episode. No evidence of manic, mixed, or hypomanic episodes is present, ruling out bipolar disorder types. \n",
      "\n",
      "**Diagnosis: SEDD**\n",
      "patient 28 <think>\n",
      "Okay, so I'm trying to figure out the diagnosis for this patient based on their symptoms and history. Let me start by listing out what's given.\n",
      "\n",
      "The Observed symptoms are: depressed_mood (5.7 weeks), diminished_interest_pleasure (5.7 weeks), reduced_concentration (3.5 weeks), low_self_worth (2.0 weeks), and psychomotor_disturbances (5.7 weeks). The History is empty, so there's no past history provided.\n",
      "\n",
      "I remember from the disorder definitions that:\n",
      "- BPD1 requires a history of at least one manic or mixed episode. Since there's no history here, BPD1 is out.\n",
      "- BPD2 needs both a depressive and hypomanic episode in history. Again, no history, so not applicable.\n",
      "- SEDD is diagnosed if there's a single depressive episode, with no history of manic, mixed, or hypomanic episodes. That fits because the patient only has current depressed symptoms.\n",
      "- RDD requires two depressive episodes separated by several months without significant mood disturbance in between. But here, we only have one episode (current) and it's been about 5.7 weeks, which is less than six months. So RDD isn't applicable either.\n",
      "\n",
      "Since there's no history of any manic or hypomanic episodes, the patient can't have BPD1 or BPD2. They don't meet RDD because they only have one episode so far. However, SEDD just needs a single depressive episode without other types in history. The current symptoms fit that.\n",
      "\n",
      "I should double-check if there's any overlap or other conditions. The absence of manic symptoms and no past issues points away from BPD. Also, since there are no two depressive episodes yet, RDD isn't it. So the only possible diagnosis is SEDD.\n",
      "</think>\n",
      "\n",
      "The patient meets the criteria for **SEDD** as they exhibit a single current depressive episode without any history of manic, mixed, or hypomanic episodes.\n",
      "\n",
      "Diagnosis: SEDD\n",
      "patient 29 <think>\n",
      "Okay, so I need to figure out the diagnosis for this patient based on their symptoms and history. Let's start by looking at what's provided.\n",
      "\n",
      "The Observed symptoms include:\n",
      "- depressed_mood for 5.7 weeks\n",
      "- diminished_interest_pleasure for 5.7 weeks\n",
      "- reduced_concentration for 3.5 weeks\n",
      "- low_self_worth for 2.0 weeks\n",
      "- psychomotor_disturbances for 5.7 weeks\n",
      "\n",
      "The History shows that a depressive episode happened once.\n",
      "\n",
      "Now, I remember the different disorders we're considering: BPD1, BPD2, SEDD, and RDD. Each has specific requirements based on their history and observed symptoms.\n",
      "\n",
      "Starting with BPD1: They need at least one manic or mixed episode in history. Since there's no mention of any manic or hypomanic episodes in the history, this can't be BPD1.\n",
      "\n",
      "BPD2 requires a history of both a depressive and a hypomanic episode. The patient has a history of a depressive episode, but there's no record of a hypomanic episode, so BPD2 is out too.\n",
      "\n",
      "SEDD needs a single depressive episode in history, which the patient has, but since they don't have any history of manic or mixed episodes, it's not BPD1. However, SEDD only requires one depressive episode and no other episodes, so this seems possible.\n",
      "\n",
      "RDD requires two depressive episodes separated by several months without significant mood disturbance. The patient only has a single depressive episode in history, so RDD doesn't apply here.\n",
      "\n",
      "Putting it all together: The patient meets the criteria for SEDD because they have a single depressive episode in their history and no signs of manic or hypomanic episodes that would suggest a bipolar disorder.\n",
      "</think>\n",
      "\n",
      "The diagnosis for this patient is:\n",
      "\n",
      "**SEDD**: A single depressive episode has been confirmed, with no history of manic, mixed, or hypomanic episodes. \n",
      "\n",
      "Therefore, the final diagnosis is **SEDD**.\n",
      "patient 30 <think>\n",
      "Okay, so I'm trying to figure out the diagnosis for this patient based on their symptoms and history. Let me start by going through each part step by step.\n",
      "\n",
      "First, let's look at the Observed symptoms:\n",
      "- euphoria_irritability_expansiveness for 0.7 weeks,\n",
      "- increased_activity_energy for 1.2 weeks,\n",
      "- increased_talkativeness for 1.8 weeks,\n",
      "- racing_thoughts for 0.7 weeks,\n",
      "- decreased_need_for_sleep for 1.2 weeks.\n",
      "\n",
      "These symptoms seem to point towards a manic episode. Euphoria, irritability, expansiveness, increased activity and energy, talkativeness, racing thoughts, and decreased need for sleep are all hallmark signs of mania. So the patient is currently experiencing a manic episode.\n",
      "\n",
      "Now, checking the History: There's nothing mentioned here. The user provided no history data, so I can't look into past episodes or other conditions. But for certain disorders like BPD1, BPD2, SEDD, and RDD, a history of specific episodes is required.\n",
      "\n",
      "Starting with BPD1: It requires at least one manic or mixed episode in the patient's history. Since the History section is empty, there's no info on past episodes. Without that history, I can't confirm BPD1.\n",
      "\n",
      "BPD2: This needs both a hypomanic and depressive episode in the patient's history. Again, without any historical data, it's impossible to diagnose this.\n",
      "\n",
      "SEDD: Requires a single depressive episode but no history of manic or mixed episodes. However, currently, the patient is in a manic state, which would rule out SEDD because they don't have just a depressive history without any manic episodes.\n",
      "\n",
      "RDD: Needs at least two depressive episodes separated by several months. Since there's no history here, I can't confirm this either.\n",
      "\n",
      "Since all these disorders require specific historical information that isn't provided, the patient doesn't meet the diagnostic criteria for any of them based on the current data. Therefore, the appropriate diagnosis would be that there isn't enough information to make a diagnosis.\n",
      "</think>\n",
      "\n",
      "The patient currently presents with symptoms indicative of a manic episode but lacks a history of episodes required for specific diagnoses like BPD1, BPD2, SEDD, or RDD. \n",
      "\n",
      "**Diagnosis:** There is insufficient information available to confirm any of the considered disorders.\n"
=======
   "execution_count": null,
   "metadata": {},
   "outputs": [
    {
     "ename": "ResponseError",
     "evalue": "model \"llama-3.2\" not found, try pulling it first (status code: 404)",
     "output_type": "error",
     "traceback": [
      "\u001b[1;31m---------------------------------------------------------------------------\u001b[0m",
      "\u001b[1;31mResponseError\u001b[0m                             Traceback (most recent call last)",
      "Cell \u001b[1;32mIn[3], line 1\u001b[0m\n\u001b[1;32m----> 1\u001b[0m \u001b[43mget_code\u001b[49m\u001b[43m(\u001b[49m\u001b[43m(\u001b[49m\u001b[38;5;124;43m\"\u001b[39;49m\u001b[38;5;124;43mllama-3.2\u001b[39;49m\u001b[38;5;124;43m\"\u001b[39;49m\u001b[43m)\u001b[49m\u001b[43m)\u001b[49m\n",
      "File \u001b[1;32mc:\\Users\\FX506\\Desktop\\CS\\3A\\MVA\\LLM\\mva-llm-project\\notebooks\\..\\src\\inference.py:73\u001b[0m, in \u001b[0;36mget_code\u001b[1;34m(model)\u001b[0m\n\u001b[0;32m     65\u001b[0m \u001b[38;5;28;01mdef\u001b[39;00m\u001b[38;5;250m \u001b[39m\u001b[38;5;21mget_code\u001b[39m(model \u001b[38;5;241m=\u001b[39m \u001b[38;5;124m'\u001b[39m\u001b[38;5;124mdeepseek-coder-v2\u001b[39m\u001b[38;5;124m'\u001b[39m) : \n\u001b[0;32m     66\u001b[0m     user \u001b[38;5;241m=\u001b[39m \u001b[38;5;124mf\u001b[39m\u001b[38;5;124m'''\u001b[39m\u001b[38;5;124mNow, translate the following criteria into python code WITH THE PACKAGE pyDatalog for Bipolar I, Bipolar II, Single Episode Depressive Disorder, and\u001b[39m\n\u001b[0;32m     67\u001b[0m \u001b[38;5;124mRecurrent Depressive Disorder. IT MUST BE IN PYTHON WITH THE PACKAGE pyDatalog.\u001b[39m\n\u001b[0;32m     68\u001b[0m \u001b[38;5;124m• Mood Episode criterion: [Depressive, Manic, Mixed, and Hypomanic Episode criteria from ICD-11 CDDR].\u001b[39m\n\u001b[1;32m   (...)\u001b[0m\n\u001b[0;32m     71\u001b[0m \u001b[38;5;124m• Relevant symptom names for Observed relation: [Symptom names]\u001b[39m\n\u001b[0;32m     72\u001b[0m \u001b[38;5;124m• Relevant condition names for History relation: [Condition names]\u001b[39m\u001b[38;5;124m'''\u001b[39m\n\u001b[1;32m---> 73\u001b[0m     response \u001b[38;5;241m=\u001b[39m \u001b[43mollama\u001b[49m\u001b[38;5;241;43m.\u001b[39;49m\u001b[43mchat\u001b[49m\u001b[43m(\u001b[49m\n\u001b[0;32m     74\u001b[0m \u001b[43m    \u001b[49m\u001b[43mmodel\u001b[49m\u001b[38;5;241;43m=\u001b[39;49m\u001b[43mmodel\u001b[49m\u001b[43m,\u001b[49m\n\u001b[0;32m     75\u001b[0m \u001b[43m    \u001b[49m\u001b[43mmessages\u001b[49m\u001b[38;5;241;43m=\u001b[39;49m\u001b[43m[\u001b[49m\n\u001b[0;32m     76\u001b[0m \u001b[43m        \u001b[49m\u001b[43m{\u001b[49m\u001b[38;5;124;43m\"\u001b[39;49m\u001b[38;5;124;43mrole\u001b[39;49m\u001b[38;5;124;43m\"\u001b[39;49m\u001b[43m:\u001b[49m\u001b[43m \u001b[49m\u001b[38;5;124;43m\"\u001b[39;49m\u001b[38;5;124;43msystem\u001b[39;49m\u001b[38;5;124;43m\"\u001b[39;49m\u001b[43m,\u001b[49m\u001b[43m \u001b[49m\u001b[38;5;124;43m\"\u001b[39;49m\u001b[38;5;124;43mcontent\u001b[39;49m\u001b[38;5;124;43m\"\u001b[39;49m\u001b[43m:\u001b[49m\u001b[43m \u001b[49m\u001b[43mPROMPT_SYSTEM\u001b[49m\u001b[43m}\u001b[49m\u001b[43m,\u001b[49m\n\u001b[0;32m     77\u001b[0m \u001b[43m        \u001b[49m\u001b[43m{\u001b[49m\u001b[38;5;124;43m\"\u001b[39;49m\u001b[38;5;124;43mrole\u001b[39;49m\u001b[38;5;124;43m\"\u001b[39;49m\u001b[43m:\u001b[49m\u001b[43m \u001b[49m\u001b[38;5;124;43m\"\u001b[39;49m\u001b[38;5;124;43muser\u001b[39;49m\u001b[38;5;124;43m\"\u001b[39;49m\u001b[43m,\u001b[49m\u001b[43m \u001b[49m\u001b[38;5;124;43m\"\u001b[39;49m\u001b[38;5;124;43mcontent\u001b[39;49m\u001b[38;5;124;43m\"\u001b[39;49m\u001b[43m:\u001b[49m\u001b[43m \u001b[49m\u001b[43muser\u001b[49m\u001b[43m}\u001b[49m\n\u001b[0;32m     78\u001b[0m \u001b[43m    \u001b[49m\u001b[43m]\u001b[49m\u001b[43m)\u001b[49m\n\u001b[0;32m     79\u001b[0m     code \u001b[38;5;241m=\u001b[39m traitement_reponse(response[\u001b[38;5;124m'\u001b[39m\u001b[38;5;124mmessage\u001b[39m\u001b[38;5;124m'\u001b[39m]\u001b[38;5;241m.\u001b[39mcontent)\n\u001b[0;32m     80\u001b[0m     check_expert(model, code)\n",
      "File \u001b[1;32mc:\\Users\\FX506\\Desktop\\CS\\3A\\MVA\\LLM\\mva-llm-project\\myenv\\lib\\site-packages\\ollama\\_client.py:333\u001b[0m, in \u001b[0;36mClient.chat\u001b[1;34m(self, model, messages, tools, stream, format, options, keep_alive)\u001b[0m\n\u001b[0;32m    289\u001b[0m \u001b[38;5;28;01mdef\u001b[39;00m\u001b[38;5;250m \u001b[39m\u001b[38;5;21mchat\u001b[39m(\n\u001b[0;32m    290\u001b[0m   \u001b[38;5;28mself\u001b[39m,\n\u001b[0;32m    291\u001b[0m   model: \u001b[38;5;28mstr\u001b[39m \u001b[38;5;241m=\u001b[39m \u001b[38;5;124m'\u001b[39m\u001b[38;5;124m'\u001b[39m,\n\u001b[1;32m   (...)\u001b[0m\n\u001b[0;32m    298\u001b[0m   keep_alive: Optional[Union[\u001b[38;5;28mfloat\u001b[39m, \u001b[38;5;28mstr\u001b[39m]] \u001b[38;5;241m=\u001b[39m \u001b[38;5;28;01mNone\u001b[39;00m,\n\u001b[0;32m    299\u001b[0m ) \u001b[38;5;241m-\u001b[39m\u001b[38;5;241m>\u001b[39m Union[ChatResponse, Iterator[ChatResponse]]:\n\u001b[0;32m    300\u001b[0m \u001b[38;5;250m  \u001b[39m\u001b[38;5;124;03m\"\"\"\u001b[39;00m\n\u001b[0;32m    301\u001b[0m \u001b[38;5;124;03m  Create a chat response using the requested model.\u001b[39;00m\n\u001b[0;32m    302\u001b[0m \n\u001b[1;32m   (...)\u001b[0m\n\u001b[0;32m    331\u001b[0m \u001b[38;5;124;03m  Returns `ChatResponse` if `stream` is `False`, otherwise returns a `ChatResponse` generator.\u001b[39;00m\n\u001b[0;32m    332\u001b[0m \u001b[38;5;124;03m  \"\"\"\u001b[39;00m\n\u001b[1;32m--> 333\u001b[0m   \u001b[38;5;28;01mreturn\u001b[39;00m \u001b[38;5;28;43mself\u001b[39;49m\u001b[38;5;241;43m.\u001b[39;49m\u001b[43m_request\u001b[49m\u001b[43m(\u001b[49m\n\u001b[0;32m    334\u001b[0m \u001b[43m    \u001b[49m\u001b[43mChatResponse\u001b[49m\u001b[43m,\u001b[49m\n\u001b[0;32m    335\u001b[0m \u001b[43m    \u001b[49m\u001b[38;5;124;43m'\u001b[39;49m\u001b[38;5;124;43mPOST\u001b[39;49m\u001b[38;5;124;43m'\u001b[39;49m\u001b[43m,\u001b[49m\n\u001b[0;32m    336\u001b[0m \u001b[43m    \u001b[49m\u001b[38;5;124;43m'\u001b[39;49m\u001b[38;5;124;43m/api/chat\u001b[39;49m\u001b[38;5;124;43m'\u001b[39;49m\u001b[43m,\u001b[49m\n\u001b[0;32m    337\u001b[0m \u001b[43m    \u001b[49m\u001b[43mjson\u001b[49m\u001b[38;5;241;43m=\u001b[39;49m\u001b[43mChatRequest\u001b[49m\u001b[43m(\u001b[49m\n\u001b[0;32m    338\u001b[0m \u001b[43m      \u001b[49m\u001b[43mmodel\u001b[49m\u001b[38;5;241;43m=\u001b[39;49m\u001b[43mmodel\u001b[49m\u001b[43m,\u001b[49m\n\u001b[0;32m    339\u001b[0m \u001b[43m      \u001b[49m\u001b[43mmessages\u001b[49m\u001b[38;5;241;43m=\u001b[39;49m\u001b[43m[\u001b[49m\u001b[43mmessage\u001b[49m\u001b[43m \u001b[49m\u001b[38;5;28;43;01mfor\u001b[39;49;00m\u001b[43m \u001b[49m\u001b[43mmessage\u001b[49m\u001b[43m \u001b[49m\u001b[38;5;129;43;01min\u001b[39;49;00m\u001b[43m \u001b[49m\u001b[43m_copy_messages\u001b[49m\u001b[43m(\u001b[49m\u001b[43mmessages\u001b[49m\u001b[43m)\u001b[49m\u001b[43m]\u001b[49m\u001b[43m,\u001b[49m\n\u001b[0;32m    340\u001b[0m \u001b[43m      \u001b[49m\u001b[43mtools\u001b[49m\u001b[38;5;241;43m=\u001b[39;49m\u001b[43m[\u001b[49m\u001b[43mtool\u001b[49m\u001b[43m \u001b[49m\u001b[38;5;28;43;01mfor\u001b[39;49;00m\u001b[43m \u001b[49m\u001b[43mtool\u001b[49m\u001b[43m \u001b[49m\u001b[38;5;129;43;01min\u001b[39;49;00m\u001b[43m \u001b[49m\u001b[43m_copy_tools\u001b[49m\u001b[43m(\u001b[49m\u001b[43mtools\u001b[49m\u001b[43m)\u001b[49m\u001b[43m]\u001b[49m\u001b[43m,\u001b[49m\n\u001b[0;32m    341\u001b[0m \u001b[43m      \u001b[49m\u001b[43mstream\u001b[49m\u001b[38;5;241;43m=\u001b[39;49m\u001b[43mstream\u001b[49m\u001b[43m,\u001b[49m\n\u001b[0;32m    342\u001b[0m \u001b[43m      \u001b[49m\u001b[38;5;28;43mformat\u001b[39;49m\u001b[38;5;241;43m=\u001b[39;49m\u001b[38;5;28;43mformat\u001b[39;49m\u001b[43m,\u001b[49m\n\u001b[0;32m    343\u001b[0m \u001b[43m      \u001b[49m\u001b[43moptions\u001b[49m\u001b[38;5;241;43m=\u001b[39;49m\u001b[43moptions\u001b[49m\u001b[43m,\u001b[49m\n\u001b[0;32m    344\u001b[0m \u001b[43m      \u001b[49m\u001b[43mkeep_alive\u001b[49m\u001b[38;5;241;43m=\u001b[39;49m\u001b[43mkeep_alive\u001b[49m\u001b[43m,\u001b[49m\n\u001b[0;32m    345\u001b[0m \u001b[43m    \u001b[49m\u001b[43m)\u001b[49m\u001b[38;5;241;43m.\u001b[39;49m\u001b[43mmodel_dump\u001b[49m\u001b[43m(\u001b[49m\u001b[43mexclude_none\u001b[49m\u001b[38;5;241;43m=\u001b[39;49m\u001b[38;5;28;43;01mTrue\u001b[39;49;00m\u001b[43m)\u001b[49m\u001b[43m,\u001b[49m\n\u001b[0;32m    346\u001b[0m \u001b[43m    \u001b[49m\u001b[43mstream\u001b[49m\u001b[38;5;241;43m=\u001b[39;49m\u001b[43mstream\u001b[49m\u001b[43m,\u001b[49m\n\u001b[0;32m    347\u001b[0m \u001b[43m  \u001b[49m\u001b[43m)\u001b[49m\n",
      "File \u001b[1;32mc:\\Users\\FX506\\Desktop\\CS\\3A\\MVA\\LLM\\mva-llm-project\\myenv\\lib\\site-packages\\ollama\\_client.py:178\u001b[0m, in \u001b[0;36mClient._request\u001b[1;34m(self, cls, stream, *args, **kwargs)\u001b[0m\n\u001b[0;32m    174\u001b[0m         \u001b[38;5;28;01myield\u001b[39;00m \u001b[38;5;28mcls\u001b[39m(\u001b[38;5;241m*\u001b[39m\u001b[38;5;241m*\u001b[39mpart)\n\u001b[0;32m    176\u001b[0m   \u001b[38;5;28;01mreturn\u001b[39;00m inner()\n\u001b[1;32m--> 178\u001b[0m \u001b[38;5;28;01mreturn\u001b[39;00m \u001b[38;5;28mcls\u001b[39m(\u001b[38;5;241m*\u001b[39m\u001b[38;5;241m*\u001b[39m\u001b[38;5;28mself\u001b[39m\u001b[38;5;241m.\u001b[39m_request_raw(\u001b[38;5;241m*\u001b[39margs, \u001b[38;5;241m*\u001b[39m\u001b[38;5;241m*\u001b[39mkwargs)\u001b[38;5;241m.\u001b[39mjson())\n",
      "File \u001b[1;32mc:\\Users\\FX506\\Desktop\\CS\\3A\\MVA\\LLM\\mva-llm-project\\myenv\\lib\\site-packages\\ollama\\_client.py:122\u001b[0m, in \u001b[0;36mClient._request_raw\u001b[1;34m(self, *args, **kwargs)\u001b[0m\n\u001b[0;32m    120\u001b[0m   \u001b[38;5;28;01mreturn\u001b[39;00m r\n\u001b[0;32m    121\u001b[0m \u001b[38;5;28;01mexcept\u001b[39;00m httpx\u001b[38;5;241m.\u001b[39mHTTPStatusError \u001b[38;5;28;01mas\u001b[39;00m e:\n\u001b[1;32m--> 122\u001b[0m   \u001b[38;5;28;01mraise\u001b[39;00m ResponseError(e\u001b[38;5;241m.\u001b[39mresponse\u001b[38;5;241m.\u001b[39mtext, e\u001b[38;5;241m.\u001b[39mresponse\u001b[38;5;241m.\u001b[39mstatus_code) \u001b[38;5;28;01mfrom\u001b[39;00m\u001b[38;5;250m \u001b[39m\u001b[38;5;28;01mNone\u001b[39;00m\n\u001b[0;32m    123\u001b[0m \u001b[38;5;28;01mexcept\u001b[39;00m httpx\u001b[38;5;241m.\u001b[39mConnectError:\n\u001b[0;32m    124\u001b[0m   \u001b[38;5;28;01mraise\u001b[39;00m \u001b[38;5;167;01mConnectionError\u001b[39;00m(CONNECTION_ERROR_MESSAGE) \u001b[38;5;28;01mfrom\u001b[39;00m\u001b[38;5;250m \u001b[39m\u001b[38;5;28;01mNone\u001b[39;00m\n",
      "\u001b[1;31mResponseError\u001b[0m: model \"llama-3.2\" not found, try pulling it first (status code: 404)"
>>>>>>> c9fdc50ea2135143d18575a7af294c88b2dafc37
     ]
    }
   ],
   "source": [
<<<<<<< HEAD
    "for i in range(11, 31):\n",
    "    print(f\"patient {i}\", get_answer(patient_id=i, model='deepseek-r1:8b'))"
=======
    "from src.inference import get_code_with_rag\n",
    "from src.config import PROMPT_SYSTEM_kanren ,PROMPT_SYSTEM_EXPERT_kanren \n",
    "get_code_with_rag(model = \"deepseek-r1\", model_expert = \"deepseek-r1\",w_model_expert = True,prompt_system=PROMPT_SYSTEM_kanren, prompt_system_expert=PROMPT_SYSTEM_EXPERT_kanren , lan_logic = 'karen') "
   ]
  },
  {
   "cell_type": "code",
   "execution_count": null,
   "metadata": {},
   "outputs": [
    {
     "ename": "CalledProcessError",
     "evalue": "Command '['python', 'patient_1_diagnosis.py']' returned non-zero exit status 1.",
     "output_type": "error",
     "traceback": [
      "\u001b[1;31m---------------------------------------------------------------------------\u001b[0m",
      "\u001b[1;31mCalledProcessError\u001b[0m                        Traceback (most recent call last)",
      "Cell \u001b[1;32mIn[6], line 1\u001b[0m\n\u001b[1;32m----> 1\u001b[0m \u001b[43mget_prompt_patient_data_for_datalog\u001b[49m\u001b[43m(\u001b[49m\u001b[38;5;241;43m1\u001b[39;49m\u001b[43m)\u001b[49m\n",
      "File \u001b[1;32mc:\\Users\\FX506\\Desktop\\CS\\3A\\MVA\\LLM\\mva-llm-project\\notebooks\\..\\src\\inference.py:110\u001b[0m, in \u001b[0;36mget_prompt_patient_data_for_datalog\u001b[1;34m(patient_id)\u001b[0m\n\u001b[0;32m    107\u001b[0m     f\u001b[38;5;241m.\u001b[39mwrite(\u001b[38;5;124m'\u001b[39m\u001b[38;5;130;01m\\n\u001b[39;00m\u001b[38;5;124m'\u001b[39m\u001b[38;5;241m.\u001b[39mjoin(lines))\n\u001b[0;32m    109\u001b[0m \u001b[38;5;66;03m# Exécuter le script\u001b[39;00m\n\u001b[1;32m--> 110\u001b[0m \u001b[43msubprocess\u001b[49m\u001b[38;5;241;43m.\u001b[39;49m\u001b[43mrun\u001b[49m\u001b[43m(\u001b[49m\u001b[43m[\u001b[49m\u001b[38;5;124;43m'\u001b[39;49m\u001b[38;5;124;43mpython\u001b[39;49m\u001b[38;5;124;43m'\u001b[39;49m\u001b[43m,\u001b[49m\u001b[43m \u001b[49m\u001b[43moutput_file\u001b[49m\u001b[43m]\u001b[49m\u001b[43m,\u001b[49m\u001b[43m \u001b[49m\u001b[43mcheck\u001b[49m\u001b[38;5;241;43m=\u001b[39;49m\u001b[38;5;28;43;01mTrue\u001b[39;49;00m\u001b[43m)\u001b[49m\n",
      "File \u001b[1;32m~\\AppData\\Local\\Programs\\Python\\Python310\\lib\\subprocess.py:524\u001b[0m, in \u001b[0;36mrun\u001b[1;34m(input, capture_output, timeout, check, *popenargs, **kwargs)\u001b[0m\n\u001b[0;32m    522\u001b[0m     retcode \u001b[38;5;241m=\u001b[39m process\u001b[38;5;241m.\u001b[39mpoll()\n\u001b[0;32m    523\u001b[0m     \u001b[38;5;28;01mif\u001b[39;00m check \u001b[38;5;129;01mand\u001b[39;00m retcode:\n\u001b[1;32m--> 524\u001b[0m         \u001b[38;5;28;01mraise\u001b[39;00m CalledProcessError(retcode, process\u001b[38;5;241m.\u001b[39margs,\n\u001b[0;32m    525\u001b[0m                                  output\u001b[38;5;241m=\u001b[39mstdout, stderr\u001b[38;5;241m=\u001b[39mstderr)\n\u001b[0;32m    526\u001b[0m \u001b[38;5;28;01mreturn\u001b[39;00m CompletedProcess(process\u001b[38;5;241m.\u001b[39margs, retcode, stdout, stderr)\n",
      "\u001b[1;31mCalledProcessError\u001b[0m: Command '['python', 'patient_1_diagnosis.py']' returned non-zero exit status 1."
     ]
    }
   ],
   "source": [
    "import pandas as pd\n",
    "from kanren import facts, var, run\n",
    "from diagnosis_kanren_rules import Observed, History, Diagnosis, PATIENT, rules\n",
    "\n",
    "# Charger le dataset\n",
    "df = pd.read_excel('/mnt/data/dataset.xlsx').fillna(\"Non renseigné\")\n",
    "\n",
    "def diagnose_patient(patient_id):\n",
    "    # Injecter les règles de diagnostic\n",
    "    rules()\n",
    "\n",
    "    # Extraire les données du patient\n",
    "    patient_data = df[df['PatientID'] == patient_id]\n",
    "\n",
    "    # Injecter les facts Observed\n",
    "    for symptom, week in zip(patient_data[\"Observed_Symptom\"], patient_data[\"Observed_Week\"]):\n",
    "        facts(Observed, (patient_id, symptom, week))\n",
    "\n",
    "    # Injecter les facts History\n",
    "    for condition, count in zip(patient_data[\"History_Condition\"], patient_data[\"History_Count\"]):\n",
    "        if condition != \"Non renseigné\":\n",
    "            facts(History, (patient_id, condition, count))\n",
    "\n",
    "    # Exécuter la requête kanren\n",
    "    x = var()\n",
    "    result = run(0, x, Diagnosis(patient_id, x))\n",
    "    print(f\"Patient {patient_id} diagnosis: {result}\")\n",
    "\n",
    "# Exemple d'exécution pour tous les patients\n",
    "for pid in df['PatientID'].unique():\n",
    "    diagnose_patient(pid)\n"
   ]
  },
  {
   "cell_type": "code",
   "execution_count": null,
   "metadata": {},
   "outputs": [],
   "source": [
    "response = ollama.chat(\n",
    "  model=\"llama.3.2\",\n",
    "  messages=[\n",
    "      {\"role\": \"system\", \"content\": PROMPT_SYSTEM},\n",
    "      {\"role\": \"user\", \"content\": \"Please translate Bipolar I and II criteria into python pyDatalog.\"}\n",
    "  ]\n",
    ")\n",
    "\n",
    "print(response['message'].content)"
>>>>>>> c9fdc50ea2135143d18575a7af294c88b2dafc37
   ]
  },
  {
   "cell_type": "code",
   "execution_count": 7,
   "metadata": {},
   "outputs": [
    {
     "name": "stdout",
     "output_type": "stream",
     "text": [
<<<<<<< HEAD
      "patient 11 BPD2\n",
      "patient 12 Based on the patient's Observed and History data:\n",
      "\n",
      " Diagnosis: BPD2 \n",
      "\n",
      "The patient meets the criteria for BPD2 as they have a history of at least one hypomanic episode (happened 2.0 times) and are currently experiencing symptoms consistent with a hypomanic episode, such as euphoria_irritability_expansiveness, increased_activity_energy, increased_talkativeness, racing_thoughts, and decreased_need_for_sleep.\n",
      "patient 13 BPD1\n",
      "patient 14 Based on the provided information, I will determine a diagnosis according to the ICD-11 CDDR criteria.\n",
      "\n",
      "Since there is no history of hypomanic or manic episodes in the patient's history, I can rule out BPD1 and BPD2.\n",
      "\n",
      "The observed symptoms include depressed mood, diminished interest/pleasure, and increased activity/energy, which could indicate a depressive episode. The presence of mixed episodes in the patient's history meets the criteria for SEDD (Single Episodic Depressive Disorder).\n",
      "\n",
      "However, I do not have enough information to rule out RDD (Recurrent Depressive Disorder) because I do not know if there are more than two depressive episodes.\n",
      "\n",
      "Therefore, based on the available data, the diagnosis is: **SEDD**\n",
      "\n",
      "If you would like me to consider additional factors or provide further clarification on this diagnosis, please let me know!\n",
      "patient 15 Based on the provided data, the diagnosis is:\n",
      "\n",
      "BPD2\n",
      "patient 16 BPD2\n",
      "patient 17 Based on the given symptoms and history, the diagnosis is:\n",
      "\n",
      "BPD1: A history of at least one manic or mixed episode is required, which matches the patient's history. The presence of manic symptoms (euphoria_irritability_expansiveness, increased_activity_energy, racing_thoughts, decreased_need_for_sleep, impulsive_reckless_behavior) further supports this diagnosis.\n",
      "patient 18 BPD1 \n",
      "\n",
      "Explanation: \n",
      "Observed matches the following symptoms from BPD1: psychomotor_disturbances (recurrent depressive episodes) and hopelessness (recurrent depressive episodes). \n",
      "History of at least one manic or mixed episode is not present, which means a diagnosis of BPD1 cannot be made.\n",
      "patient 19 BPD2\n",
      "patient 20 No clear diagnosis.\n",
      "patient 21 BPD2: A history of at least one hypomanic episode and at least one depressive episode is required for diagnosis.\n",
      "patient 22 Based on the patient's symptoms and history:\n",
      "\n",
      "BPD2 \n",
      "\n",
      "There is no record for a new patient.\n",
      "patient 23 Based on the ICD-11 Clinical Descriptions and Diagnostic Requirements (CDDR), here are the diagnoses:\n",
      "\n",
      "No diagnosis, as no manic or mixed episodes are present in history.\n",
      "\n",
      "BPD2: A history of at least one depressive episode is required for diagnosis, which is present. There is also a current hypomanic episode indicated by observed symptoms. \n",
      "\n",
      "SEDD: This diagnosis is not possible since there is a history of at least one depressive episode, which would rule out SEDD.\n",
      "patient 24 No record for the patient.\n",
      "\n",
      "Please provide the History data to continue with the diagnosis.\n",
      "patient 25 Based on the patient data provided:\n",
      "\n",
      "1. Diagnosis: SEDD\n",
      "2. No clear diagnosis\n",
      "patient 26 BPD2: A history of at least one hypomanic episode and at least one depressive episode is required for diagnosis. The typical course of the disorder is characterized by recurrent depressive and hypomanic episodes.\n",
      "patient 27 Based on the patient's history and symptoms:\n",
      "\n",
      "BPD2 (Bipolar Disorder Type II)\n",
      "patient 28 Based on the given data:\n",
      "\n",
      "1. Observed: \n",
      "   - depressed_mood has been observed for 5.7 weeks\n",
      "   - diminished_interest_pleasure has been observed for 5.7 weeks\n",
      "   - reduced_concentration has been observed for 3.5 weeks\n",
      "   - low_self_worth has been observed for 2.0 weeks\n",
      "   - psychomotor_disturbances has been observed for 5.7 weeks\n",
      "History: \n",
      "No record\n",
      "\n",
      "Diagnosis: SEDD \n",
      "\n",
      "2. Observed:\n",
      "   No data available.\n",
      "History:\n",
      "No record\n",
      "\n",
      "Diagnosis: None\n",
      "patient 29 Based on the patient data:\n",
      "\n",
      "Diagnosis: SEDD (Single Episode Depressive Disorder) \n",
      "\n",
      "Note: The presence of a history of a single depressive episode is sufficient to diagnose SEDD, and other criteria are not met for BPD1, BPD2, or RDD.\n",
      "patient 30 I'll diagnose the patients according to the given criteria.\n",
      "\n",
      "Please provide the patient history as a list of conditions with their respective frequencies (e.g., [\"Bipolar Disorder I\", 3], [\"Depressive Episode\", 2]).\n"
=======
      "PATIENT\n",
      "-------\n",
      "John   \n"
>>>>>>> c9fdc50ea2135143d18575a7af294c88b2dafc37
     ]
    }
   ],
   "source": [
<<<<<<< HEAD
    "for i in range(11, 31):\n",
    "    print(f\"patient {i}\", get_answer(patient_id=i, model='llama3.1'))"
=======
    "from src import code_Datalog \n",
    "\n",
    "+ code_Datalog.Observed('John', 'Mania', 4.0)\n",
    "\n",
    "# Utiliser aussi les mêmes termes déclarés dans le même namespace\n",
    "print(code_Datalog.ManicEpisode(code_Datalog.PATIENT))\n"
   ]
  },
  {
   "cell_type": "code",
   "execution_count": 7,
   "metadata": {},
   "outputs": [
    {
     "name": "stdout",
     "output_type": "stream",
     "text": [
      "[]\n",
      "[]\n"
     ]
    },
    {
     "ename": "NameError",
     "evalue": "name 'X' is not defined",
     "output_type": "error",
     "traceback": [
      "\u001b[1;31m---------------------------------------------------------------------------\u001b[0m",
      "\u001b[1;31mNameError\u001b[0m                                 Traceback (most recent call last)",
      "Cell \u001b[1;32mIn[7], line 40\u001b[0m\n\u001b[0;32m     38\u001b[0m \u001b[38;5;28mprint\u001b[39m(ManicEpisode(p))\n\u001b[0;32m     39\u001b[0m \u001b[38;5;28mprint\u001b[39m(DepressionPeriod(p))\n\u001b[1;32m---> 40\u001b[0m \u001b[38;5;28mprint\u001b[39m(Diagnosis(p, \u001b[43mX\u001b[49m))\n",
      "\u001b[1;31mNameError\u001b[0m: name 'X' is not defined"
     ]
    }
   ],
   "source": [
    "import pyDatalog\n",
    "\n",
    "from pyDatalog import pyDatalog\n",
    "\n",
    "pyDatalog.clear()\n",
    "pyDatalog.create_terms('Patient, p, w, Count, Observed, ManicEpisode, DepressionPeriod, BipolarI, BipolarII, PsychoticFeatures, at_least_one_depression, at_least_two_episodes, Diagnosis')\n",
    "\n",
    "# ManicEpisode rules\n",
    "ManicEpisode(p) <= Observed(p, 'Mania', w) & (w >= 3.0)\n",
    "ManicEpisode(p) <= Observed(p, 'Hypomania', w) & (w >= 2.5)\n",
    "\n",
    "# Depression rules\n",
    "DepressionPeriod(p) <= Observed(p, 'MajorDepressiveDisorder', w) & ~(ManicEpisode(p))\n",
    "\n",
    "# PsychoticFeatures rule (commented out as in your original Soufflé)\n",
    "# PsychoticFeatures(p) <= Observed(p, 'Psychosis', w)\n",
    "\n",
    "# Bipolar I diagnosis\n",
    "BipolarI(p) <= ManicEpisode(p) & at_least_one_depression(p) & at_least_two_episodes(p)\n",
    "\n",
    "# Bipolar II diagnosis (no psychosis)\n",
    "BipolarII(p) <= ManicEpisode(p) & ~(PsychoticFeatures(p)) & at_least_one_depression(p) & at_least_two_episodes(p)\n",
    "\n",
    "# Helper predicates\n",
    "at_least_one_depression(p) <= DepressionPeriod(p)\n",
    "# Here, pyDatalog does not have direct \"count()\" like Soufflé, so you'll handle counts differently (see note below)\n",
    "# For now, we keep a placeholder\n",
    "at_least_two_episodes(p) <= (Count >= 2)  # Will need manual count handling with Python\n",
    "\n",
    "# Diagnosis outputs (print later)\n",
    "Diagnosis(p, 'Bipolar I') <= BipolarI(p)\n",
    "Diagnosis(p, 'Bipolar II') <= BipolarII(p)\n",
    "\n",
    "+ Observed('John', 'Mania', 4.0)\n",
    "+ Observed('John', 'MajorDepressiveDisorder', 3.0)\n",
    "+ Observed('John', 'MajorDepressiveDisorder', 3.0)\n",
    "\n",
    "print(ManicEpisode(p))\n",
    "print(DepressionPeriod(p))\n",
    "print(Diagnosis(p, X))\n",
    "\n"
   ]
  },
  {
   "cell_type": "markdown",
   "metadata": {},
   "source": [
    "# LLM only approach"
   ]
  },
  {
   "cell_type": "code",
   "execution_count": 17,
   "metadata": {},
   "outputs": [],
   "source": [
    "from src.inference import get_answer"
   ]
  },
  {
   "cell_type": "code",
   "execution_count": 18,
   "metadata": {},
   "outputs": [
    {
     "ename": "ResponseError",
     "evalue": "model \"mistral\" not found, try pulling it first (status code: 404)",
     "output_type": "error",
     "traceback": [
      "\u001b[1;31m---------------------------------------------------------------------------\u001b[0m",
      "\u001b[1;31mResponseError\u001b[0m                             Traceback (most recent call last)",
      "Cell \u001b[1;32mIn[18], line 1\u001b[0m\n\u001b[1;32m----> 1\u001b[0m \u001b[43mget_answer\u001b[49m\u001b[43m(\u001b[49m\u001b[43mpatient_id\u001b[49m\u001b[38;5;241;43m=\u001b[39;49m\u001b[38;5;241;43m10\u001b[39;49m\u001b[43m,\u001b[49m\u001b[43m \u001b[49m\u001b[43mmodel\u001b[49m\u001b[38;5;241;43m=\u001b[39;49m\u001b[38;5;124;43m'\u001b[39;49m\u001b[38;5;124;43mmistral\u001b[39;49m\u001b[38;5;124;43m'\u001b[39;49m\u001b[43m)\u001b[49m\n",
      "File \u001b[1;32mc:\\Users\\FX506\\Desktop\\CS\\3A\\MVA\\LLM\\mva-llm-project\\notebooks\\..\\src\\inference.py:7\u001b[0m, in \u001b[0;36mget_answer\u001b[1;34m(patient_id, model)\u001b[0m\n\u001b[0;32m      5\u001b[0m observed, history_conditions, mood_episodes \u001b[38;5;241m=\u001b[39m get_prompt_patient_data(patient_id) \n\u001b[0;32m      6\u001b[0m user \u001b[38;5;241m=\u001b[39m \u001b[38;5;124mf\u001b[39m\u001b[38;5;124m'\u001b[39m\u001b[38;5;124mFor brevity, please output only the diagnosis for the following patients. Patients with no clear diagnosis should be indicated as such. \u001b[39m\u001b[38;5;132;01m{\u001b[39;00mobserved\u001b[38;5;132;01m}\u001b[39;00m\u001b[38;5;124m, \u001b[39m\u001b[38;5;132;01m{\u001b[39;00mhistory_conditions\u001b[38;5;132;01m}\u001b[39;00m\u001b[38;5;124m'\u001b[39m\n\u001b[1;32m----> 7\u001b[0m response \u001b[38;5;241m=\u001b[39m \u001b[43mollama\u001b[49m\u001b[38;5;241;43m.\u001b[39;49m\u001b[43mchat\u001b[49m\u001b[43m(\u001b[49m\n\u001b[0;32m      8\u001b[0m \u001b[43m\u001b[49m\u001b[43mmodel\u001b[49m\u001b[38;5;241;43m=\u001b[39;49m\u001b[43mmodel\u001b[49m\u001b[43m,\u001b[49m\n\u001b[0;32m      9\u001b[0m \u001b[43m\u001b[49m\u001b[43mmessages\u001b[49m\u001b[38;5;241;43m=\u001b[39;49m\u001b[43m[\u001b[49m\n\u001b[0;32m     10\u001b[0m \u001b[43m    \u001b[49m\u001b[43m{\u001b[49m\u001b[38;5;124;43m\"\u001b[39;49m\u001b[38;5;124;43mrole\u001b[39;49m\u001b[38;5;124;43m\"\u001b[39;49m\u001b[43m:\u001b[49m\u001b[43m \u001b[49m\u001b[38;5;124;43m\"\u001b[39;49m\u001b[38;5;124;43msystem\u001b[39;49m\u001b[38;5;124;43m\"\u001b[39;49m\u001b[43m,\u001b[49m\u001b[43m \u001b[49m\u001b[38;5;124;43m\"\u001b[39;49m\u001b[38;5;124;43mcontent\u001b[39;49m\u001b[38;5;124;43m\"\u001b[39;49m\u001b[43m:\u001b[49m\u001b[43m \u001b[49m\u001b[43msystem\u001b[49m\u001b[43m}\u001b[49m\u001b[43m,\u001b[49m\n\u001b[0;32m     11\u001b[0m \u001b[43m    \u001b[49m\u001b[43m{\u001b[49m\u001b[38;5;124;43m\"\u001b[39;49m\u001b[38;5;124;43mrole\u001b[39;49m\u001b[38;5;124;43m\"\u001b[39;49m\u001b[43m:\u001b[49m\u001b[43m \u001b[49m\u001b[38;5;124;43m\"\u001b[39;49m\u001b[38;5;124;43muser\u001b[39;49m\u001b[38;5;124;43m\"\u001b[39;49m\u001b[43m,\u001b[49m\u001b[43m \u001b[49m\u001b[38;5;124;43m\"\u001b[39;49m\u001b[38;5;124;43mcontent\u001b[39;49m\u001b[38;5;124;43m\"\u001b[39;49m\u001b[43m:\u001b[49m\u001b[43m \u001b[49m\u001b[43muser\u001b[49m\u001b[43m}\u001b[49m\n\u001b[0;32m     12\u001b[0m \u001b[43m\u001b[49m\u001b[43m]\u001b[49m\u001b[43m)\u001b[49m\n\u001b[0;32m     13\u001b[0m \u001b[38;5;28;01mreturn\u001b[39;00m response[\u001b[38;5;124m'\u001b[39m\u001b[38;5;124mmessage\u001b[39m\u001b[38;5;124m'\u001b[39m]\u001b[38;5;241m.\u001b[39mcontent\n",
      "File \u001b[1;32mc:\\Users\\FX506\\Desktop\\CS\\3A\\MVA\\LLM\\mva-llm-project\\myenv\\lib\\site-packages\\ollama\\_client.py:333\u001b[0m, in \u001b[0;36mClient.chat\u001b[1;34m(self, model, messages, tools, stream, format, options, keep_alive)\u001b[0m\n\u001b[0;32m    289\u001b[0m \u001b[38;5;28;01mdef\u001b[39;00m\u001b[38;5;250m \u001b[39m\u001b[38;5;21mchat\u001b[39m(\n\u001b[0;32m    290\u001b[0m   \u001b[38;5;28mself\u001b[39m,\n\u001b[0;32m    291\u001b[0m   model: \u001b[38;5;28mstr\u001b[39m \u001b[38;5;241m=\u001b[39m \u001b[38;5;124m'\u001b[39m\u001b[38;5;124m'\u001b[39m,\n\u001b[1;32m   (...)\u001b[0m\n\u001b[0;32m    298\u001b[0m   keep_alive: Optional[Union[\u001b[38;5;28mfloat\u001b[39m, \u001b[38;5;28mstr\u001b[39m]] \u001b[38;5;241m=\u001b[39m \u001b[38;5;28;01mNone\u001b[39;00m,\n\u001b[0;32m    299\u001b[0m ) \u001b[38;5;241m-\u001b[39m\u001b[38;5;241m>\u001b[39m Union[ChatResponse, Iterator[ChatResponse]]:\n\u001b[0;32m    300\u001b[0m \u001b[38;5;250m  \u001b[39m\u001b[38;5;124;03m\"\"\"\u001b[39;00m\n\u001b[0;32m    301\u001b[0m \u001b[38;5;124;03m  Create a chat response using the requested model.\u001b[39;00m\n\u001b[0;32m    302\u001b[0m \n\u001b[1;32m   (...)\u001b[0m\n\u001b[0;32m    331\u001b[0m \u001b[38;5;124;03m  Returns `ChatResponse` if `stream` is `False`, otherwise returns a `ChatResponse` generator.\u001b[39;00m\n\u001b[0;32m    332\u001b[0m \u001b[38;5;124;03m  \"\"\"\u001b[39;00m\n\u001b[1;32m--> 333\u001b[0m   \u001b[38;5;28;01mreturn\u001b[39;00m \u001b[38;5;28;43mself\u001b[39;49m\u001b[38;5;241;43m.\u001b[39;49m\u001b[43m_request\u001b[49m\u001b[43m(\u001b[49m\n\u001b[0;32m    334\u001b[0m \u001b[43m    \u001b[49m\u001b[43mChatResponse\u001b[49m\u001b[43m,\u001b[49m\n\u001b[0;32m    335\u001b[0m \u001b[43m    \u001b[49m\u001b[38;5;124;43m'\u001b[39;49m\u001b[38;5;124;43mPOST\u001b[39;49m\u001b[38;5;124;43m'\u001b[39;49m\u001b[43m,\u001b[49m\n\u001b[0;32m    336\u001b[0m \u001b[43m    \u001b[49m\u001b[38;5;124;43m'\u001b[39;49m\u001b[38;5;124;43m/api/chat\u001b[39;49m\u001b[38;5;124;43m'\u001b[39;49m\u001b[43m,\u001b[49m\n\u001b[0;32m    337\u001b[0m \u001b[43m    \u001b[49m\u001b[43mjson\u001b[49m\u001b[38;5;241;43m=\u001b[39;49m\u001b[43mChatRequest\u001b[49m\u001b[43m(\u001b[49m\n\u001b[0;32m    338\u001b[0m \u001b[43m      \u001b[49m\u001b[43mmodel\u001b[49m\u001b[38;5;241;43m=\u001b[39;49m\u001b[43mmodel\u001b[49m\u001b[43m,\u001b[49m\n\u001b[0;32m    339\u001b[0m \u001b[43m      \u001b[49m\u001b[43mmessages\u001b[49m\u001b[38;5;241;43m=\u001b[39;49m\u001b[43m[\u001b[49m\u001b[43mmessage\u001b[49m\u001b[43m \u001b[49m\u001b[38;5;28;43;01mfor\u001b[39;49;00m\u001b[43m \u001b[49m\u001b[43mmessage\u001b[49m\u001b[43m \u001b[49m\u001b[38;5;129;43;01min\u001b[39;49;00m\u001b[43m \u001b[49m\u001b[43m_copy_messages\u001b[49m\u001b[43m(\u001b[49m\u001b[43mmessages\u001b[49m\u001b[43m)\u001b[49m\u001b[43m]\u001b[49m\u001b[43m,\u001b[49m\n\u001b[0;32m    340\u001b[0m \u001b[43m      \u001b[49m\u001b[43mtools\u001b[49m\u001b[38;5;241;43m=\u001b[39;49m\u001b[43m[\u001b[49m\u001b[43mtool\u001b[49m\u001b[43m \u001b[49m\u001b[38;5;28;43;01mfor\u001b[39;49;00m\u001b[43m \u001b[49m\u001b[43mtool\u001b[49m\u001b[43m \u001b[49m\u001b[38;5;129;43;01min\u001b[39;49;00m\u001b[43m \u001b[49m\u001b[43m_copy_tools\u001b[49m\u001b[43m(\u001b[49m\u001b[43mtools\u001b[49m\u001b[43m)\u001b[49m\u001b[43m]\u001b[49m\u001b[43m,\u001b[49m\n\u001b[0;32m    341\u001b[0m \u001b[43m      \u001b[49m\u001b[43mstream\u001b[49m\u001b[38;5;241;43m=\u001b[39;49m\u001b[43mstream\u001b[49m\u001b[43m,\u001b[49m\n\u001b[0;32m    342\u001b[0m \u001b[43m      \u001b[49m\u001b[38;5;28;43mformat\u001b[39;49m\u001b[38;5;241;43m=\u001b[39;49m\u001b[38;5;28;43mformat\u001b[39;49m\u001b[43m,\u001b[49m\n\u001b[0;32m    343\u001b[0m \u001b[43m      \u001b[49m\u001b[43moptions\u001b[49m\u001b[38;5;241;43m=\u001b[39;49m\u001b[43moptions\u001b[49m\u001b[43m,\u001b[49m\n\u001b[0;32m    344\u001b[0m \u001b[43m      \u001b[49m\u001b[43mkeep_alive\u001b[49m\u001b[38;5;241;43m=\u001b[39;49m\u001b[43mkeep_alive\u001b[49m\u001b[43m,\u001b[49m\n\u001b[0;32m    345\u001b[0m \u001b[43m    \u001b[49m\u001b[43m)\u001b[49m\u001b[38;5;241;43m.\u001b[39;49m\u001b[43mmodel_dump\u001b[49m\u001b[43m(\u001b[49m\u001b[43mexclude_none\u001b[49m\u001b[38;5;241;43m=\u001b[39;49m\u001b[38;5;28;43;01mTrue\u001b[39;49;00m\u001b[43m)\u001b[49m\u001b[43m,\u001b[49m\n\u001b[0;32m    346\u001b[0m \u001b[43m    \u001b[49m\u001b[43mstream\u001b[49m\u001b[38;5;241;43m=\u001b[39;49m\u001b[43mstream\u001b[49m\u001b[43m,\u001b[49m\n\u001b[0;32m    347\u001b[0m \u001b[43m  \u001b[49m\u001b[43m)\u001b[49m\n",
      "File \u001b[1;32mc:\\Users\\FX506\\Desktop\\CS\\3A\\MVA\\LLM\\mva-llm-project\\myenv\\lib\\site-packages\\ollama\\_client.py:178\u001b[0m, in \u001b[0;36mClient._request\u001b[1;34m(self, cls, stream, *args, **kwargs)\u001b[0m\n\u001b[0;32m    174\u001b[0m         \u001b[38;5;28;01myield\u001b[39;00m \u001b[38;5;28mcls\u001b[39m(\u001b[38;5;241m*\u001b[39m\u001b[38;5;241m*\u001b[39mpart)\n\u001b[0;32m    176\u001b[0m   \u001b[38;5;28;01mreturn\u001b[39;00m inner()\n\u001b[1;32m--> 178\u001b[0m \u001b[38;5;28;01mreturn\u001b[39;00m \u001b[38;5;28mcls\u001b[39m(\u001b[38;5;241m*\u001b[39m\u001b[38;5;241m*\u001b[39m\u001b[38;5;28mself\u001b[39m\u001b[38;5;241m.\u001b[39m_request_raw(\u001b[38;5;241m*\u001b[39margs, \u001b[38;5;241m*\u001b[39m\u001b[38;5;241m*\u001b[39mkwargs)\u001b[38;5;241m.\u001b[39mjson())\n",
      "File \u001b[1;32mc:\\Users\\FX506\\Desktop\\CS\\3A\\MVA\\LLM\\mva-llm-project\\myenv\\lib\\site-packages\\ollama\\_client.py:122\u001b[0m, in \u001b[0;36mClient._request_raw\u001b[1;34m(self, *args, **kwargs)\u001b[0m\n\u001b[0;32m    120\u001b[0m   \u001b[38;5;28;01mreturn\u001b[39;00m r\n\u001b[0;32m    121\u001b[0m \u001b[38;5;28;01mexcept\u001b[39;00m httpx\u001b[38;5;241m.\u001b[39mHTTPStatusError \u001b[38;5;28;01mas\u001b[39;00m e:\n\u001b[1;32m--> 122\u001b[0m   \u001b[38;5;28;01mraise\u001b[39;00m ResponseError(e\u001b[38;5;241m.\u001b[39mresponse\u001b[38;5;241m.\u001b[39mtext, e\u001b[38;5;241m.\u001b[39mresponse\u001b[38;5;241m.\u001b[39mstatus_code) \u001b[38;5;28;01mfrom\u001b[39;00m\u001b[38;5;250m \u001b[39m\u001b[38;5;28;01mNone\u001b[39;00m\n\u001b[0;32m    123\u001b[0m \u001b[38;5;28;01mexcept\u001b[39;00m httpx\u001b[38;5;241m.\u001b[39mConnectError:\n\u001b[0;32m    124\u001b[0m   \u001b[38;5;28;01mraise\u001b[39;00m \u001b[38;5;167;01mConnectionError\u001b[39;00m(CONNECTION_ERROR_MESSAGE) \u001b[38;5;28;01mfrom\u001b[39;00m\u001b[38;5;250m \u001b[39m\u001b[38;5;28;01mNone\u001b[39;00m\n",
      "\u001b[1;31mResponseError\u001b[0m: model \"mistral\" not found, try pulling it first (status code: 404)"
     ]
    }
   ],
   "source": [
    "get_answer(patient_id=10, model='mistral')"
   ]
  },
  {
   "cell_type": "code",
   "execution_count": 21,
   "metadata": {},
   "outputs": [
    {
     "name": "stdout",
     "output_type": "stream",
     "text": [
      "The history saving thread hit an unexpected error (OperationalError('database or disk is full')).History will not be written to the database.\n"
     ]
    },
    {
     "ename": "",
     "evalue": "",
     "output_type": "error",
     "traceback": [
      "\u001b[1;31mCannot execute code, session has been disposed. Please try restarting the Kernel."
     ]
    },
    {
     "ename": "",
     "evalue": "",
     "output_type": "error",
     "traceback": [
      "\u001b[1;31mCannot execute code, session has been disposed. Please try restarting the Kernel. \n",
      "\u001b[1;31mView Jupyter <a href='command:jupyter.viewOutput'>log</a> for further details."
     ]
    }
   ],
   "source": [
    "get_answer(patient_id=1, model='deepseek-r1:8b')"
   ]
  },
  {
   "cell_type": "code",
   "execution_count": null,
   "metadata": {},
   "outputs": [],
   "source": [
    "for i in range(2, 11):\n",
    "    print(f\"patient {i}\", get_answer(patient_id=i, model='deepseek-r1:8b'))"
>>>>>>> c9fdc50ea2135143d18575a7af294c88b2dafc37
   ]
  },
  {
   "cell_type": "code",
   "execution_count": null,
   "metadata": {},
   "outputs": [],
   "source": []
  }
 ],
 "metadata": {
  "kernelspec": {
<<<<<<< HEAD
   "display_name": "project_env",
=======
   "display_name": "Python 3",
>>>>>>> c9fdc50ea2135143d18575a7af294c88b2dafc37
   "language": "python",
   "name": "python3"
  },
  "language_info": {
   "codemirror_mode": {
    "name": "ipython",
    "version": 3
   },
   "file_extension": ".py",
   "mimetype": "text/x-python",
   "name": "python",
   "nbconvert_exporter": "python",
   "pygments_lexer": "ipython3",
<<<<<<< HEAD
   "version": "3.12.9"
=======
   "version": "3.12.0"
>>>>>>> c9fdc50ea2135143d18575a7af294c88b2dafc37
  }
 },
 "nbformat": 4,
 "nbformat_minor": 2
}
